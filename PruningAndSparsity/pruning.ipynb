{
 "cells": [
  {
   "cell_type": "code",
   "execution_count": 1,
   "metadata": {},
   "outputs": [
    {
     "name": "stderr",
     "output_type": "stream",
     "text": [
      "c:\\Users\\padis\\anaconda3\\envs\\saidl\\lib\\site-packages\\tqdm\\auto.py:21: TqdmWarning: IProgress not found. Please update jupyter and ipywidgets. See https://ipywidgets.readthedocs.io/en/stable/user_install.html\n",
      "  from .autonotebook import tqdm as notebook_tqdm\n"
     ]
    },
    {
     "name": "stdout",
     "output_type": "stream",
     "text": [
      "Files already downloaded and verified\n",
      "Files already downloaded and verified\n"
     ]
    }
   ],
   "source": [
    "import torch\n",
    "from torch import nn\n",
    "from torch.optim import Optimizer\n",
    "from torchvision.datasets import CIFAR10\n",
    "from torchvision.transforms import Compose, RandomCrop, RandomHorizontalFlip, ToTensor\n",
    "from torch.optim.lr_scheduler import MultiStepLR\n",
    "from torch.utils.data import DataLoader\n",
    "\n",
    "from tqdm.auto import tqdm\n",
    "\n",
    "\n",
    "def train(\n",
    "  model: nn.Module,\n",
    "  dataloader: DataLoader,\n",
    "  criterion: nn.Module,\n",
    "  optimizer: Optimizer,\n",
    ") -> None:\n",
    "  model.train()\n",
    "\n",
    "  for inputs, targets in tqdm(dataloader, desc='train', leave=False):\n",
    "    # Move the data from CPU to GPU\n",
    "    inputs = inputs.cuda()\n",
    "    targets = targets.cuda()\n",
    "\n",
    "    # Reset the gradients (from the last iteration)\n",
    "    optimizer.zero_grad()\n",
    "\n",
    "    # Forward inference\n",
    "    outputs = model(inputs)\n",
    "    loss = criterion(outputs, targets)\n",
    "\n",
    "    # Backward propagation\n",
    "    loss.backward()\n",
    "\n",
    "    # Update optimizer\n",
    "    optimizer.step()\n",
    "\n",
    "@torch.inference_mode()\n",
    "def evaluate(\n",
    "  model: nn.Module,\n",
    "  dataloader: DataLoader,\n",
    "  verbose=True,\n",
    ") -> float:\n",
    "  model.eval()\n",
    "\n",
    "  num_samples = 0\n",
    "  num_correct = 0\n",
    "\n",
    "  for inputs, targets in tqdm(dataloader, desc=\"eval\", leave=False,\n",
    "                              disable=not verbose):\n",
    "    # Move the data from CPU to GPU\n",
    "    inputs = inputs.cuda()\n",
    "    targets = targets.cuda()\n",
    "\n",
    "    # Inference\n",
    "    outputs = model(inputs)\n",
    "\n",
    "    # Convert logits to class indices\n",
    "    outputs = outputs.argmax(dim=1)\n",
    "\n",
    "    # Update metrics\n",
    "    num_samples += targets.size(0)\n",
    "    num_correct += (outputs == targets).sum()\n",
    "\n",
    "  return (num_correct / num_samples * 100).item()\n",
    "\n",
    "def get_sparsity(tensor: torch.Tensor) -> float:\n",
    "    \"\"\"\n",
    "    calculate the sparsity of the given tensor\n",
    "        sparsity = #zeros / #elements = 1 - #nonzeros / #elements\n",
    "    \"\"\"\n",
    "    return 1 - float(tensor.count_nonzero()) / tensor.numel()\n",
    "\n",
    "\n",
    "def get_model_sparsity(model: nn.Module) -> float:\n",
    "    \"\"\"\n",
    "    calculate the sparsity of the given model\n",
    "        sparsity = #zeros / #elements = 1 - #nonzeros / #elements\n",
    "    \"\"\"\n",
    "    num_nonzeros, num_elements = 0, 0\n",
    "    for param in model.parameters():\n",
    "        num_nonzeros += param.count_nonzero()\n",
    "        num_elements += param.numel()\n",
    "    return 1 - float(num_nonzeros) / num_elements\n",
    "\n",
    "def get_num_parameters(model: nn.Module, count_nonzero_only=False) -> int:\n",
    "    \"\"\"\n",
    "    calculate the total number of parameters of model\n",
    "    :param count_nonzero_only: only count nonzero weights\n",
    "    \"\"\"\n",
    "    num_counted_elements = 0\n",
    "    for param in model.parameters():\n",
    "        if count_nonzero_only:\n",
    "            num_counted_elements += param.count_nonzero()\n",
    "        else:\n",
    "            num_counted_elements += param.numel()\n",
    "    return num_counted_elements\n",
    "\n",
    "\n",
    "def get_model_size(model: nn.Module, data_width=32, count_nonzero_only=False) -> int:\n",
    "    \"\"\"\n",
    "    calculate the model size in bits\n",
    "    :param data_width: #bits per element\n",
    "    :param count_nonzero_only: only count nonzero weights\n",
    "    \"\"\"\n",
    "    return get_num_parameters(model, count_nonzero_only) * data_width\n",
    "\n",
    "Byte = 8\n",
    "KiB = 1024 * Byte\n",
    "MiB = 1024 * KiB\n",
    "GiB = 1024 * MiB\n",
    "\n",
    "#Ideal Dataset and Dataloader organization, don't hesitate to do something else\n",
    "image_size = 32\n",
    "transforms = {\n",
    "    \"train\": Compose([\n",
    "        RandomCrop(image_size, padding=4),\n",
    "        RandomHorizontalFlip(),\n",
    "        ToTensor(),\n",
    "    ]),\n",
    "    \"test\": ToTensor(),\n",
    "}\n",
    "dataset = {}\n",
    "for split in [\"train\", \"test\"]:\n",
    "  dataset[split] = CIFAR10(\n",
    "    root=\"data/cifar10\",\n",
    "    train=(split == \"train\"),\n",
    "    download=True,\n",
    "    transform=transforms[split],\n",
    "  )\n",
    "dataloader = {}\n",
    "for split in ['train', 'test']:\n",
    "  dataloader[split] = DataLoader(\n",
    "    dataset[split],\n",
    "    batch_size=512,\n",
    "    shuffle=(split == 'train'),\n",
    "    num_workers=0,\n",
    "    pin_memory=True,\n",
    "  )"
   ]
  },
  {
   "cell_type": "code",
   "execution_count": 3,
   "metadata": {},
   "outputs": [],
   "source": [
    "class VGG16(nn.Module):\n",
    "    def __init__(self, num_classes=10):\n",
    "        super(VGG16, self).__init__()\n",
    "        self.layer1 = nn.Sequential(\n",
    "            nn.Conv2d(3, 64, kernel_size=3, stride=1, padding=1),\n",
    "            nn.BatchNorm2d(64),\n",
    "            nn.ReLU())\n",
    "        self.layer2 = nn.Sequential(\n",
    "            nn.Conv2d(64, 64, kernel_size=3, stride=1, padding=1),\n",
    "            nn.BatchNorm2d(64),\n",
    "            nn.ReLU(), \n",
    "            nn.MaxPool2d(kernel_size = 2, stride = 2))\n",
    "        self.layer3 = nn.Sequential(\n",
    "            nn.Conv2d(64, 128, kernel_size=3, stride=1, padding=1),\n",
    "            nn.BatchNorm2d(128),\n",
    "            nn.ReLU())\n",
    "        self.layer4 = nn.Sequential(\n",
    "            nn.Conv2d(128, 128, kernel_size=3, stride=1, padding=1),\n",
    "            nn.BatchNorm2d(128),\n",
    "            nn.ReLU(),\n",
    "            nn.MaxPool2d(kernel_size = 2, stride = 2))\n",
    "        self.layer5 = nn.Sequential(\n",
    "            nn.Conv2d(128, 256, kernel_size=3, stride=1, padding=1),\n",
    "            nn.BatchNorm2d(256),\n",
    "            nn.ReLU())\n",
    "        self.layer6 = nn.Sequential(\n",
    "            nn.Conv2d(256, 256, kernel_size=3, stride=1, padding=1),\n",
    "            nn.BatchNorm2d(256),\n",
    "            nn.ReLU())\n",
    "        self.layer7 = nn.Sequential(\n",
    "            nn.Conv2d(256, 256, kernel_size=3, stride=1, padding=1),\n",
    "            nn.BatchNorm2d(256),\n",
    "            nn.ReLU(),\n",
    "            nn.MaxPool2d(kernel_size = 2, stride = 2))\n",
    "        self.layer8 = nn.Sequential(\n",
    "            nn.Conv2d(256, 512, kernel_size=3, stride=1, padding=1),\n",
    "            nn.BatchNorm2d(512),\n",
    "            nn.ReLU())\n",
    "        self.layer9 = nn.Sequential(\n",
    "            nn.Conv2d(512, 512, kernel_size=3, stride=1, padding=1),\n",
    "            nn.BatchNorm2d(512),\n",
    "            nn.ReLU())\n",
    "        self.layer10 = nn.Sequential(\n",
    "            nn.Conv2d(512, 512, kernel_size=3, stride=1, padding=1),\n",
    "            nn.BatchNorm2d(512),\n",
    "            nn.ReLU(),\n",
    "            nn.MaxPool2d(kernel_size = 2, stride = 2))\n",
    "        self.layer11 = nn.Sequential(\n",
    "            nn.Conv2d(512, 512, kernel_size=3, stride=1, padding=1),\n",
    "            nn.BatchNorm2d(512),\n",
    "            nn.ReLU())\n",
    "        self.layer12 = nn.Sequential(\n",
    "            nn.Conv2d(512, 512, kernel_size=3, stride=1, padding=1),\n",
    "            nn.BatchNorm2d(512),\n",
    "            nn.ReLU())\n",
    "        self.layer13 = nn.Sequential(\n",
    "            nn.Conv2d(512, 512, kernel_size=3, stride=1, padding=1),\n",
    "            nn.BatchNorm2d(512),\n",
    "            nn.ReLU(),\n",
    "            nn.MaxPool2d(kernel_size = 2, stride = 2))\n",
    "        self.fc14 = nn.Sequential(\n",
    "            nn.Linear(512, 4096),\n",
    "            nn.Dropout(0.5),\n",
    "            nn.ReLU())\n",
    "        self.fc15 = nn.Sequential(\n",
    "            nn.Dropout(0.5),\n",
    "            nn.Linear(4096, 4096),\n",
    "            nn.ReLU())\n",
    "        self.fc16= nn.Sequential(\n",
    "            nn.Linear(4096, num_classes))\n",
    "        \n",
    "    def forward(self, x):\n",
    "        out = self.layer1(x)\n",
    "        out = self.layer2(out)\n",
    "        out = self.layer3(out)\n",
    "        out = self.layer4(out)\n",
    "        out = self.layer5(out)\n",
    "        out = self.layer6(out)\n",
    "        out = self.layer7(out)\n",
    "        out = self.layer8(out)\n",
    "        out = self.layer9(out)\n",
    "        out = self.layer10(out)\n",
    "        out = self.layer11(out)\n",
    "        out = self.layer12(out)\n",
    "        out = self.layer13(out)\n",
    "        out = out.reshape(out.size(0), -1)\n",
    "        out = self.fc14(out)\n",
    "        out = self.fc15(out)\n",
    "        out = self.fc16(out)\n",
    "        return out\n",
    "\n",
    "        "
   ]
  },
  {
   "cell_type": "code",
   "execution_count": 13,
   "metadata": {},
   "outputs": [
    {
     "data": {
      "text/plain": [
       "<All keys matched successfully>"
      ]
     },
     "execution_count": 13,
     "metadata": {},
     "output_type": "execute_result"
    }
   ],
   "source": [
    "model = VGG16().to(device = 'cuda')\n",
    "model.load_state_dict(torch.load(\"modelsaidlFinal.pth\", weights_only= True))"
   ]
  },
  {
   "cell_type": "code",
   "execution_count": 14,
   "metadata": {},
   "outputs": [
    {
     "name": "stdout",
     "output_type": "stream",
     "text": [
      "Accuracy of the network on the 10000 test images: 82.64 %\n"
     ]
    }
   ],
   "source": [
    "with torch.no_grad():\n",
    "    correct = 0\n",
    "    total = 0\n",
    "    for images, labels in dataloader['test']:\n",
    "        images = images.to(device = 'cuda')\n",
    "        labels = labels.to(device = 'cuda')\n",
    "        outputs = model(images)\n",
    "        _, predicted = torch.max(outputs.data, 1)\n",
    "        total += labels.size(0)\n",
    "        correct += (predicted == labels).sum().item()\n",
    "        del images, labels, outputs\n",
    "\n",
    "    print('Accuracy of the network on the {} test images: {} %'.format(10000, 100 * correct / total))   "
   ]
  },
  {
   "cell_type": "code",
   "execution_count": 15,
   "metadata": {},
   "outputs": [
    {
     "name": "stdout",
     "output_type": "stream",
     "text": [
      "model size = 128.35184478759766MB\n"
     ]
    }
   ],
   "source": [
    "mb = get_model_size(model)/MiB\n",
    "print(f\"model size = {mb}MB\")"
   ]
  },
  {
   "cell_type": "code",
   "execution_count": 16,
   "metadata": {},
   "outputs": [
    {
     "data": {
      "image/png": "[encoded data removed]",
      "text/plain": [
       "<Figure size 1000x600 with 16 Axes>"
      ]
     },
     "metadata": {},
     "output_type": "display_data"
    }
   ],
   "source": [
    "import matplotlib.pyplot as plt\n",
    "def plot_weight_distribution(model, bins=256, count_nonzero_only=False):\n",
    "    fig, axes = plt.subplots(4,4, figsize=(10, 6))\n",
    "    axes = axes.ravel()\n",
    "    plot_index = 0\n",
    "    for name, param in model.named_parameters():\n",
    "        if param.dim() > 1:\n",
    "            ax = axes[plot_index]\n",
    "            if count_nonzero_only:\n",
    "                param_cpu = param.detach().view(-1).cpu()\n",
    "                param_cpu = param_cpu[param_cpu != 0].view(-1)\n",
    "                ax.hist(param_cpu, bins=bins, density=True,\n",
    "                        color = 'blue', alpha = 0.5)\n",
    "            else:\n",
    "                ax.hist(param.detach().view(-1).cpu(), bins=bins, density=True,\n",
    "                        color = 'blue', alpha = 0.5)\n",
    "            ax.set_xlabel(name)\n",
    "            ax.set_ylabel('density')\n",
    "            plot_index += 1\n",
    "    fig.suptitle('Histogram of Weights')\n",
    "    fig.tight_layout()\n",
    "    fig.subplots_adjust(top=0.925)\n",
    "    plt.show()\n",
    "\n",
    "plot_weight_distribution(model)\n",
    "     "
   ]
  },
  {
   "cell_type": "code",
   "execution_count": 19,
   "metadata": {},
   "outputs": [],
   "source": [
    "import numpy as np\n",
    "import math\n",
    "def fine_grained_prune(tensor: torch.Tensor, sparsity : float) -> torch.Tensor:\n",
    "\n",
    "    sparsity = min(max(0.0, sparsity), 1.0)\n",
    "    if sparsity == 1.0:\n",
    "        tensor.zero_()\n",
    "        return torch.zeros_like(tensor)\n",
    "    elif sparsity == 0.0:\n",
    "        return torch.ones_like(tensor)\n",
    "\n",
    "    num_elements = tensor.numel()\n",
    "    num_zeros = round(num_elements * sparsity)\n",
    "    importance = torch.abs(tensor)\n",
    "    threshold = torch.kthvalue(importance.flatten(), num_zeros)[0]\n",
    "    mask = importance > threshold#binary mask 1 for non zereos and 0 for zeros\n",
    "    tensor.mul_(mask)#multiply with mask to remove values below threshold\n",
    "\n",
    "\n",
    "    return mask\n",
    "\n"
   ]
  },
  {
   "cell_type": "code",
   "execution_count": 21,
   "metadata": {},
   "outputs": [
    {
     "name": "stdout",
     "output_type": "stream",
     "text": [
      "<class 'torch.nn.parameter.Parameter'>\n"
     ]
    },
    {
     "name": "stderr",
     "output_type": "stream",
     "text": [
      "scanning 0/16 weight - layer1.0.weight:  10%|█         | 1/10 [00:07<01:07,  7.48s/it]"
     ]
    },
    {
     "name": "stdout",
     "output_type": "stream",
     "text": [
      "    sparsity=0.00: accuracy=82.81%"
     ]
    },
    {
     "name": "stderr",
     "output_type": "stream",
     "text": [
      "scanning 0/16 weight - layer1.0.weight:  20%|██        | 2/10 [00:14<00:58,  7.36s/it]"
     ]
    },
    {
     "name": "stdout",
     "output_type": "stream",
     "text": [
      "    sparsity=0.10: accuracy=81.99%"
     ]
    },
    {
     "name": "stderr",
     "output_type": "stream",
     "text": [
      "scanning 0/16 weight - layer1.0.weight:  30%|███       | 3/10 [00:21<00:51,  7.30s/it]"
     ]
    },
    {
     "name": "stdout",
     "output_type": "stream",
     "text": [
      "    sparsity=0.20: accuracy=78.28%"
     ]
    },
    {
     "name": "stderr",
     "output_type": "stream",
     "text": [
      "scanning 0/16 weight - layer1.0.weight:  40%|████      | 4/10 [00:29<00:43,  7.29s/it]"
     ]
    },
    {
     "name": "stdout",
     "output_type": "stream",
     "text": [
      "    sparsity=0.30: accuracy=64.14%"
     ]
    },
    {
     "name": "stderr",
     "output_type": "stream",
     "text": [
      "scanning 0/16 weight - layer1.0.weight:  50%|█████     | 5/10 [00:36<00:36,  7.29s/it]"
     ]
    },
    {
     "name": "stdout",
     "output_type": "stream",
     "text": [
      "    sparsity=0.40: accuracy=47.94%"
     ]
    },
    {
     "name": "stderr",
     "output_type": "stream",
     "text": [
      "scanning 0/16 weight - layer1.0.weight:  60%|██████    | 6/10 [00:43<00:29,  7.27s/it]"
     ]
    },
    {
     "name": "stdout",
     "output_type": "stream",
     "text": [
      "    sparsity=0.50: accuracy=23.13%"
     ]
    },
    {
     "name": "stderr",
     "output_type": "stream",
     "text": [
      "scanning 0/16 weight - layer1.0.weight:  70%|███████   | 7/10 [00:51<00:21,  7.27s/it]"
     ]
    },
    {
     "name": "stdout",
     "output_type": "stream",
     "text": [
      "    sparsity=0.60: accuracy=10.53%"
     ]
    },
    {
     "name": "stderr",
     "output_type": "stream",
     "text": [
      "scanning 0/16 weight - layer1.0.weight:  80%|████████  | 8/10 [00:58<00:14,  7.26s/it]"
     ]
    },
    {
     "name": "stdout",
     "output_type": "stream",
     "text": [
      "    sparsity=0.70: accuracy=9.14%"
     ]
    },
    {
     "name": "stderr",
     "output_type": "stream",
     "text": [
      "scanning 0/16 weight - layer1.0.weight:  90%|█████████ | 9/10 [01:05<00:07,  7.26s/it]"
     ]
    },
    {
     "name": "stdout",
     "output_type": "stream",
     "text": [
      "    sparsity=0.80: accuracy=9.79%"
     ]
    },
    {
     "name": "stderr",
     "output_type": "stream",
     "text": [
      "scanning 0/16 weight - layer1.0.weight: 100%|██████████| 10/10 [01:12<00:00,  7.29s/it]\n"
     ]
    },
    {
     "name": "stdout",
     "output_type": "stream",
     "text": [
      "    sparsity=[0.00,0.10,0.20,0.30,0.40,0.50,0.60,0.70,0.80,0.90]: accuracy=[82.81%, 81.99%, 78.28%, 64.14%, 47.94%, 23.13%, 10.53%, 9.14%, 9.79%, 9.42%]<class 'torch.nn.parameter.Parameter'>\n"
     ]
    },
    {
     "name": "stderr",
     "output_type": "stream",
     "text": [
      "scanning 1/16 weight - layer2.0.weight:  10%|█         | 1/10 [00:07<01:05,  7.27s/it]"
     ]
    },
    {
     "name": "stdout",
     "output_type": "stream",
     "text": [
      "    sparsity=0.00: accuracy=82.81%"
     ]
    },
    {
     "name": "stderr",
     "output_type": "stream",
     "text": [
      "scanning 1/16 weight - layer2.0.weight:  20%|██        | 2/10 [00:14<00:58,  7.26s/it]"
     ]
    },
    {
     "name": "stdout",
     "output_type": "stream",
     "text": [
      "    sparsity=0.10: accuracy=82.82%"
     ]
    },
    {
     "name": "stderr",
     "output_type": "stream",
     "text": [
      "scanning 1/16 weight - layer2.0.weight:  30%|███       | 3/10 [00:21<00:50,  7.26s/it]"
     ]
    },
    {
     "name": "stdout",
     "output_type": "stream",
     "text": [
      "    sparsity=0.20: accuracy=82.66%"
     ]
    },
    {
     "name": "stderr",
     "output_type": "stream",
     "text": [
      "scanning 1/16 weight - layer2.0.weight:  40%|████      | 4/10 [00:29<00:43,  7.27s/it]"
     ]
    },
    {
     "name": "stdout",
     "output_type": "stream",
     "text": [
      "    sparsity=0.30: accuracy=82.82%"
     ]
    },
    {
     "name": "stderr",
     "output_type": "stream",
     "text": [
      "scanning 1/16 weight - layer2.0.weight:  50%|█████     | 5/10 [00:36<00:36,  7.27s/it]"
     ]
    },
    {
     "name": "stdout",
     "output_type": "stream",
     "text": [
      "    sparsity=0.40: accuracy=83.03%"
     ]
    },
    {
     "name": "stderr",
     "output_type": "stream",
     "text": [
      "scanning 1/16 weight - layer2.0.weight:  60%|██████    | 6/10 [00:43<00:29,  7.27s/it]"
     ]
    },
    {
     "name": "stdout",
     "output_type": "stream",
     "text": [
      "    sparsity=0.50: accuracy=82.51%"
     ]
    },
    {
     "name": "stderr",
     "output_type": "stream",
     "text": [
      "scanning 1/16 weight - layer2.0.weight:  70%|███████   | 7/10 [00:50<00:21,  7.27s/it]"
     ]
    },
    {
     "name": "stdout",
     "output_type": "stream",
     "text": [
      "    sparsity=0.60: accuracy=80.76%"
     ]
    },
    {
     "name": "stderr",
     "output_type": "stream",
     "text": [
      "scanning 1/16 weight - layer2.0.weight:  80%|████████  | 8/10 [00:58<00:14,  7.27s/it]"
     ]
    },
    {
     "name": "stdout",
     "output_type": "stream",
     "text": [
      "    sparsity=0.70: accuracy=79.74%"
     ]
    },
    {
     "name": "stderr",
     "output_type": "stream",
     "text": [
      "scanning 1/16 weight - layer2.0.weight:  90%|█████████ | 9/10 [01:05<00:07,  7.27s/it]"
     ]
    },
    {
     "name": "stdout",
     "output_type": "stream",
     "text": [
      "    sparsity=0.80: accuracy=78.95%"
     ]
    },
    {
     "name": "stderr",
     "output_type": "stream",
     "text": [
      "scanning 1/16 weight - layer2.0.weight: 100%|██████████| 10/10 [01:12<00:00,  7.27s/it]\n"
     ]
    },
    {
     "name": "stdout",
     "output_type": "stream",
     "text": [
      "    sparsity=[0.00,0.10,0.20,0.30,0.40,0.50,0.60,0.70,0.80,0.90]: accuracy=[82.81%, 82.82%, 82.66%, 82.82%, 83.03%, 82.51%, 80.76%, 79.74%, 78.95%, 62.22%]<class 'torch.nn.parameter.Parameter'>\n"
     ]
    },
    {
     "name": "stderr",
     "output_type": "stream",
     "text": [
      "scanning 2/16 weight - layer3.0.weight:  10%|█         | 1/10 [00:07<01:05,  7.27s/it]"
     ]
    },
    {
     "name": "stdout",
     "output_type": "stream",
     "text": [
      "    sparsity=0.00: accuracy=82.81%"
     ]
    },
    {
     "name": "stderr",
     "output_type": "stream",
     "text": [
      "scanning 2/16 weight - layer3.0.weight:  20%|██        | 2/10 [00:14<00:58,  7.26s/it]"
     ]
    },
    {
     "name": "stdout",
     "output_type": "stream",
     "text": [
      "    sparsity=0.10: accuracy=82.77%"
     ]
    },
    {
     "name": "stderr",
     "output_type": "stream",
     "text": [
      "scanning 2/16 weight - layer3.0.weight:  30%|███       | 3/10 [00:21<00:50,  7.25s/it]"
     ]
    },
    {
     "name": "stdout",
     "output_type": "stream",
     "text": [
      "    sparsity=0.20: accuracy=82.99%"
     ]
    },
    {
     "name": "stderr",
     "output_type": "stream",
     "text": [
      "scanning 2/16 weight - layer3.0.weight:  40%|████      | 4/10 [00:29<00:43,  7.27s/it]"
     ]
    },
    {
     "name": "stdout",
     "output_type": "stream",
     "text": [
      "    sparsity=0.30: accuracy=82.85%"
     ]
    },
    {
     "name": "stderr",
     "output_type": "stream",
     "text": [
      "scanning 2/16 weight - layer3.0.weight:  50%|█████     | 5/10 [00:36<00:36,  7.26s/it]"
     ]
    },
    {
     "name": "stdout",
     "output_type": "stream",
     "text": [
      "    sparsity=0.40: accuracy=83.15%"
     ]
    },
    {
     "name": "stderr",
     "output_type": "stream",
     "text": [
      "scanning 2/16 weight - layer3.0.weight:  60%|██████    | 6/10 [00:43<00:29,  7.26s/it]"
     ]
    },
    {
     "name": "stdout",
     "output_type": "stream",
     "text": [
      "    sparsity=0.50: accuracy=82.59%"
     ]
    },
    {
     "name": "stderr",
     "output_type": "stream",
     "text": [
      "scanning 2/16 weight - layer3.0.weight:  70%|███████   | 7/10 [00:50<00:21,  7.27s/it]"
     ]
    },
    {
     "name": "stdout",
     "output_type": "stream",
     "text": [
      "    sparsity=0.60: accuracy=81.14%"
     ]
    },
    {
     "name": "stderr",
     "output_type": "stream",
     "text": [
      "scanning 2/16 weight - layer3.0.weight:  80%|████████  | 8/10 [00:58<00:14,  7.28s/it]"
     ]
    },
    {
     "name": "stdout",
     "output_type": "stream",
     "text": [
      "    sparsity=0.70: accuracy=80.56%"
     ]
    },
    {
     "name": "stderr",
     "output_type": "stream",
     "text": [
      "scanning 2/16 weight - layer3.0.weight:  90%|█████████ | 9/10 [01:05<00:07,  7.27s/it]"
     ]
    },
    {
     "name": "stdout",
     "output_type": "stream",
     "text": [
      "    sparsity=0.80: accuracy=76.22%"
     ]
    },
    {
     "name": "stderr",
     "output_type": "stream",
     "text": [
      "scanning 2/16 weight - layer3.0.weight: 100%|██████████| 10/10 [01:12<00:00,  7.27s/it]\n"
     ]
    },
    {
     "name": "stdout",
     "output_type": "stream",
     "text": [
      "    sparsity=[0.00,0.10,0.20,0.30,0.40,0.50,0.60,0.70,0.80,0.90]: accuracy=[82.81%, 82.77%, 82.99%, 82.85%, 83.15%, 82.59%, 81.14%, 80.56%, 76.22%, 62.03%]<class 'torch.nn.parameter.Parameter'>\n"
     ]
    },
    {
     "name": "stderr",
     "output_type": "stream",
     "text": [
      "scanning 3/16 weight - layer4.0.weight:  10%|█         | 1/10 [00:07<01:05,  7.27s/it]"
     ]
    },
    {
     "name": "stdout",
     "output_type": "stream",
     "text": [
      "    sparsity=0.00: accuracy=82.81%"
     ]
    },
    {
     "name": "stderr",
     "output_type": "stream",
     "text": [
      "scanning 3/16 weight - layer4.0.weight:  20%|██        | 2/10 [00:14<00:59,  7.42s/it]"
     ]
    },
    {
     "name": "stdout",
     "output_type": "stream",
     "text": [
      "    sparsity=0.10: accuracy=82.87%"
     ]
    },
    {
     "name": "stderr",
     "output_type": "stream",
     "text": [
      "scanning 3/16 weight - layer4.0.weight:  30%|███       | 3/10 [00:22<00:51,  7.39s/it]"
     ]
    },
    {
     "name": "stdout",
     "output_type": "stream",
     "text": [
      "    sparsity=0.20: accuracy=82.98%"
     ]
    },
    {
     "name": "stderr",
     "output_type": "stream",
     "text": [
      "scanning 3/16 weight - layer4.0.weight:  40%|████      | 4/10 [00:29<00:45,  7.55s/it]"
     ]
    },
    {
     "name": "stdout",
     "output_type": "stream",
     "text": [
      "    sparsity=0.30: accuracy=83.20%"
     ]
    },
    {
     "name": "stderr",
     "output_type": "stream",
     "text": [
      "scanning 3/16 weight - layer4.0.weight:  50%|█████     | 5/10 [00:37<00:38,  7.69s/it]"
     ]
    },
    {
     "name": "stdout",
     "output_type": "stream",
     "text": [
      "    sparsity=0.40: accuracy=82.98%"
     ]
    },
    {
     "name": "stderr",
     "output_type": "stream",
     "text": [
      "scanning 3/16 weight - layer4.0.weight:  60%|██████    | 6/10 [00:45<00:30,  7.73s/it]"
     ]
    },
    {
     "name": "stdout",
     "output_type": "stream",
     "text": [
      "    sparsity=0.50: accuracy=82.76%"
     ]
    },
    {
     "name": "stderr",
     "output_type": "stream",
     "text": [
      "scanning 3/16 weight - layer4.0.weight:  70%|███████   | 7/10 [00:53<00:22,  7.61s/it]"
     ]
    },
    {
     "name": "stdout",
     "output_type": "stream",
     "text": [
      "    sparsity=0.60: accuracy=81.81%"
     ]
    },
    {
     "name": "stderr",
     "output_type": "stream",
     "text": [
      "scanning 3/16 weight - layer4.0.weight:  80%|████████  | 8/10 [01:00<00:15,  7.53s/it]"
     ]
    },
    {
     "name": "stdout",
     "output_type": "stream",
     "text": [
      "    sparsity=0.70: accuracy=78.54%"
     ]
    },
    {
     "name": "stderr",
     "output_type": "stream",
     "text": [
      "scanning 3/16 weight - layer4.0.weight:  90%|█████████ | 9/10 [01:07<00:07,  7.46s/it]"
     ]
    },
    {
     "name": "stdout",
     "output_type": "stream",
     "text": [
      "    sparsity=0.80: accuracy=69.79%"
     ]
    },
    {
     "name": "stderr",
     "output_type": "stream",
     "text": [
      "scanning 3/16 weight - layer4.0.weight: 100%|██████████| 10/10 [01:15<00:00,  7.51s/it]\n"
     ]
    },
    {
     "name": "stdout",
     "output_type": "stream",
     "text": [
      "    sparsity=[0.00,0.10,0.20,0.30,0.40,0.50,0.60,0.70,0.80,0.90]: accuracy=[82.81%, 82.87%, 82.98%, 83.20%, 82.98%, 82.76%, 81.81%, 78.54%, 69.79%, 45.00%]<class 'torch.nn.parameter.Parameter'>\n"
     ]
    },
    {
     "name": "stderr",
     "output_type": "stream",
     "text": [
      "scanning 4/16 weight - layer5.0.weight:  10%|█         | 1/10 [00:07<01:06,  7.36s/it]"
     ]
    },
    {
     "name": "stdout",
     "output_type": "stream",
     "text": [
      "    sparsity=0.00: accuracy=82.81%"
     ]
    },
    {
     "name": "stderr",
     "output_type": "stream",
     "text": [
      "scanning 4/16 weight - layer5.0.weight:  20%|██        | 2/10 [00:14<00:59,  7.44s/it]"
     ]
    },
    {
     "name": "stdout",
     "output_type": "stream",
     "text": [
      "    sparsity=0.10: accuracy=82.88%"
     ]
    },
    {
     "name": "stderr",
     "output_type": "stream",
     "text": [
      "scanning 4/16 weight - layer5.0.weight:  30%|███       | 3/10 [00:22<00:52,  7.54s/it]"
     ]
    },
    {
     "name": "stdout",
     "output_type": "stream",
     "text": [
      "    sparsity=0.20: accuracy=82.85%"
     ]
    },
    {
     "name": "stderr",
     "output_type": "stream",
     "text": [
      "scanning 4/16 weight - layer5.0.weight:  40%|████      | 4/10 [00:30<00:45,  7.52s/it]"
     ]
    },
    {
     "name": "stdout",
     "output_type": "stream",
     "text": [
      "    sparsity=0.30: accuracy=82.85%"
     ]
    },
    {
     "name": "stderr",
     "output_type": "stream",
     "text": [
      "scanning 4/16 weight - layer5.0.weight:  50%|█████     | 5/10 [00:37<00:37,  7.47s/it]"
     ]
    },
    {
     "name": "stdout",
     "output_type": "stream",
     "text": [
      "    sparsity=0.40: accuracy=82.93%"
     ]
    },
    {
     "name": "stderr",
     "output_type": "stream",
     "text": [
      "scanning 4/16 weight - layer5.0.weight:  60%|██████    | 6/10 [00:44<00:29,  7.43s/it]"
     ]
    },
    {
     "name": "stdout",
     "output_type": "stream",
     "text": [
      "    sparsity=0.50: accuracy=82.38%"
     ]
    },
    {
     "name": "stderr",
     "output_type": "stream",
     "text": [
      "scanning 4/16 weight - layer5.0.weight:  70%|███████   | 7/10 [00:52<00:22,  7.41s/it]"
     ]
    },
    {
     "name": "stdout",
     "output_type": "stream",
     "text": [
      "    sparsity=0.60: accuracy=81.69%"
     ]
    },
    {
     "name": "stderr",
     "output_type": "stream",
     "text": [
      "scanning 4/16 weight - layer5.0.weight:  80%|████████  | 8/10 [00:59<00:14,  7.44s/it]"
     ]
    },
    {
     "name": "stdout",
     "output_type": "stream",
     "text": [
      "    sparsity=0.70: accuracy=79.04%"
     ]
    },
    {
     "name": "stderr",
     "output_type": "stream",
     "text": [
      "scanning 4/16 weight - layer5.0.weight:  90%|█████████ | 9/10 [01:07<00:07,  7.64s/it]"
     ]
    },
    {
     "name": "stdout",
     "output_type": "stream",
     "text": [
      "    sparsity=0.80: accuracy=66.80%"
     ]
    },
    {
     "name": "stderr",
     "output_type": "stream",
     "text": [
      "scanning 4/16 weight - layer5.0.weight: 100%|██████████| 10/10 [01:15<00:00,  7.53s/it]\n"
     ]
    },
    {
     "name": "stdout",
     "output_type": "stream",
     "text": [
      "    sparsity=[0.00,0.10,0.20,0.30,0.40,0.50,0.60,0.70,0.80,0.90]: accuracy=[82.81%, 82.88%, 82.85%, 82.85%, 82.93%, 82.38%, 81.69%, 79.04%, 66.80%, 31.55%]<class 'torch.nn.parameter.Parameter'>\n"
     ]
    },
    {
     "name": "stderr",
     "output_type": "stream",
     "text": [
      "scanning 5/16 weight - layer6.0.weight:  10%|█         | 1/10 [00:07<01:06,  7.43s/it]"
     ]
    },
    {
     "name": "stdout",
     "output_type": "stream",
     "text": [
      "    sparsity=0.00: accuracy=82.81%"
     ]
    },
    {
     "name": "stderr",
     "output_type": "stream",
     "text": [
      "scanning 5/16 weight - layer6.0.weight:  20%|██        | 2/10 [00:15<01:01,  7.70s/it]"
     ]
    },
    {
     "name": "stdout",
     "output_type": "stream",
     "text": [
      "    sparsity=0.10: accuracy=82.82%"
     ]
    },
    {
     "name": "stderr",
     "output_type": "stream",
     "text": [
      "scanning 5/16 weight - layer6.0.weight:  30%|███       | 3/10 [00:22<00:53,  7.58s/it]"
     ]
    },
    {
     "name": "stdout",
     "output_type": "stream",
     "text": [
      "    sparsity=0.20: accuracy=82.81%"
     ]
    },
    {
     "name": "stderr",
     "output_type": "stream",
     "text": [
      "scanning 5/16 weight - layer6.0.weight:  40%|████      | 4/10 [00:30<00:44,  7.50s/it]"
     ]
    },
    {
     "name": "stdout",
     "output_type": "stream",
     "text": [
      "    sparsity=0.30: accuracy=82.71%"
     ]
    },
    {
     "name": "stderr",
     "output_type": "stream",
     "text": [
      "scanning 5/16 weight - layer6.0.weight:  50%|█████     | 5/10 [00:38<00:38,  7.69s/it]"
     ]
    },
    {
     "name": "stdout",
     "output_type": "stream",
     "text": [
      "    sparsity=0.40: accuracy=82.57%"
     ]
    },
    {
     "name": "stderr",
     "output_type": "stream",
     "text": [
      "scanning 5/16 weight - layer6.0.weight:  60%|██████    | 6/10 [00:45<00:30,  7.72s/it]"
     ]
    },
    {
     "name": "stdout",
     "output_type": "stream",
     "text": [
      "    sparsity=0.50: accuracy=82.46%"
     ]
    },
    {
     "name": "stderr",
     "output_type": "stream",
     "text": [
      "scanning 5/16 weight - layer6.0.weight:  70%|███████   | 7/10 [00:53<00:22,  7.61s/it]"
     ]
    },
    {
     "name": "stdout",
     "output_type": "stream",
     "text": [
      "    sparsity=0.60: accuracy=81.93%"
     ]
    },
    {
     "name": "stderr",
     "output_type": "stream",
     "text": [
      "scanning 5/16 weight - layer6.0.weight:  80%|████████  | 8/10 [01:01<00:15,  7.69s/it]"
     ]
    },
    {
     "name": "stdout",
     "output_type": "stream",
     "text": [
      "    sparsity=0.70: accuracy=80.65%"
     ]
    },
    {
     "name": "stderr",
     "output_type": "stream",
     "text": [
      "scanning 5/16 weight - layer6.0.weight:  90%|█████████ | 9/10 [01:08<00:07,  7.69s/it]"
     ]
    },
    {
     "name": "stdout",
     "output_type": "stream",
     "text": [
      "    sparsity=0.80: accuracy=77.55%"
     ]
    },
    {
     "name": "stderr",
     "output_type": "stream",
     "text": [
      "scanning 5/16 weight - layer6.0.weight: 100%|██████████| 10/10 [01:16<00:00,  7.63s/it]\n"
     ]
    },
    {
     "name": "stdout",
     "output_type": "stream",
     "text": [
      "    sparsity=[0.00,0.10,0.20,0.30,0.40,0.50,0.60,0.70,0.80,0.90]: accuracy=[82.81%, 82.82%, 82.81%, 82.71%, 82.57%, 82.46%, 81.93%, 80.65%, 77.55%, 61.91%]<class 'torch.nn.parameter.Parameter'>\n"
     ]
    },
    {
     "name": "stderr",
     "output_type": "stream",
     "text": [
      "scanning 6/16 weight - layer7.0.weight:  10%|█         | 1/10 [00:08<01:13,  8.14s/it]"
     ]
    },
    {
     "name": "stdout",
     "output_type": "stream",
     "text": [
      "    sparsity=0.00: accuracy=82.81%"
     ]
    },
    {
     "name": "stderr",
     "output_type": "stream",
     "text": [
      "scanning 6/16 weight - layer7.0.weight:  20%|██        | 2/10 [00:15<01:02,  7.84s/it]"
     ]
    },
    {
     "name": "stdout",
     "output_type": "stream",
     "text": [
      "    sparsity=0.10: accuracy=82.79%"
     ]
    },
    {
     "name": "stderr",
     "output_type": "stream",
     "text": [
      "scanning 6/16 weight - layer7.0.weight:  30%|███       | 3/10 [00:23<00:53,  7.66s/it]"
     ]
    },
    {
     "name": "stdout",
     "output_type": "stream",
     "text": [
      "    sparsity=0.20: accuracy=82.81%"
     ]
    },
    {
     "name": "stderr",
     "output_type": "stream",
     "text": [
      "scanning 6/16 weight - layer7.0.weight:  40%|████      | 4/10 [00:30<00:45,  7.57s/it]"
     ]
    },
    {
     "name": "stdout",
     "output_type": "stream",
     "text": [
      "    sparsity=0.30: accuracy=82.69%"
     ]
    },
    {
     "name": "stderr",
     "output_type": "stream",
     "text": [
      "scanning 6/16 weight - layer7.0.weight:  50%|█████     | 5/10 [00:38<00:38,  7.61s/it]"
     ]
    },
    {
     "name": "stdout",
     "output_type": "stream",
     "text": [
      "    sparsity=0.40: accuracy=82.50%"
     ]
    },
    {
     "name": "stderr",
     "output_type": "stream",
     "text": [
      "scanning 6/16 weight - layer7.0.weight:  60%|██████    | 6/10 [00:45<00:30,  7.53s/it]"
     ]
    },
    {
     "name": "stdout",
     "output_type": "stream",
     "text": [
      "    sparsity=0.50: accuracy=82.06%"
     ]
    },
    {
     "name": "stderr",
     "output_type": "stream",
     "text": [
      "scanning 6/16 weight - layer7.0.weight:  70%|███████   | 7/10 [00:53<00:22,  7.46s/it]"
     ]
    },
    {
     "name": "stdout",
     "output_type": "stream",
     "text": [
      "    sparsity=0.60: accuracy=81.11%"
     ]
    },
    {
     "name": "stderr",
     "output_type": "stream",
     "text": [
      "scanning 6/16 weight - layer7.0.weight:  80%|████████  | 8/10 [01:00<00:14,  7.43s/it]"
     ]
    },
    {
     "name": "stdout",
     "output_type": "stream",
     "text": [
      "    sparsity=0.70: accuracy=79.20%"
     ]
    },
    {
     "name": "stderr",
     "output_type": "stream",
     "text": [
      "scanning 6/16 weight - layer7.0.weight:  90%|█████████ | 9/10 [01:07<00:07,  7.40s/it]"
     ]
    },
    {
     "name": "stdout",
     "output_type": "stream",
     "text": [
      "    sparsity=0.80: accuracy=73.79%"
     ]
    },
    {
     "name": "stderr",
     "output_type": "stream",
     "text": [
      "scanning 6/16 weight - layer7.0.weight: 100%|██████████| 10/10 [01:15<00:00,  7.51s/it]\n"
     ]
    },
    {
     "name": "stdout",
     "output_type": "stream",
     "text": [
      "    sparsity=[0.00,0.10,0.20,0.30,0.40,0.50,0.60,0.70,0.80,0.90]: accuracy=[82.81%, 82.79%, 82.81%, 82.69%, 82.50%, 82.06%, 81.11%, 79.20%, 73.79%, 60.23%]<class 'torch.nn.parameter.Parameter'>\n"
     ]
    },
    {
     "name": "stderr",
     "output_type": "stream",
     "text": [
      "scanning 7/16 weight - layer8.0.weight:  10%|█         | 1/10 [00:07<01:06,  7.34s/it]"
     ]
    },
    {
     "name": "stdout",
     "output_type": "stream",
     "text": [
      "    sparsity=0.00: accuracy=82.81%"
     ]
    },
    {
     "name": "stderr",
     "output_type": "stream",
     "text": [
      "scanning 7/16 weight - layer8.0.weight:  20%|██        | 2/10 [00:14<00:58,  7.32s/it]"
     ]
    },
    {
     "name": "stdout",
     "output_type": "stream",
     "text": [
      "    sparsity=0.10: accuracy=82.80%"
     ]
    },
    {
     "name": "stderr",
     "output_type": "stream",
     "text": [
      "scanning 7/16 weight - layer8.0.weight:  30%|███       | 3/10 [00:22<00:51,  7.41s/it]"
     ]
    },
    {
     "name": "stdout",
     "output_type": "stream",
     "text": [
      "    sparsity=0.20: accuracy=82.81%"
     ]
    },
    {
     "name": "stderr",
     "output_type": "stream",
     "text": [
      "scanning 7/16 weight - layer8.0.weight:  40%|████      | 4/10 [00:30<00:45,  7.65s/it]"
     ]
    },
    {
     "name": "stdout",
     "output_type": "stream",
     "text": [
      "    sparsity=0.30: accuracy=82.73%"
     ]
    },
    {
     "name": "stderr",
     "output_type": "stream",
     "text": [
      "scanning 7/16 weight - layer8.0.weight:  50%|█████     | 5/10 [00:37<00:38,  7.69s/it]"
     ]
    },
    {
     "name": "stdout",
     "output_type": "stream",
     "text": [
      "    sparsity=0.40: accuracy=82.74%"
     ]
    },
    {
     "name": "stderr",
     "output_type": "stream",
     "text": [
      "scanning 7/16 weight - layer8.0.weight:  60%|██████    | 6/10 [00:45<00:31,  7.77s/it]"
     ]
    },
    {
     "name": "stdout",
     "output_type": "stream",
     "text": [
      "    sparsity=0.50: accuracy=82.50%"
     ]
    },
    {
     "name": "stderr",
     "output_type": "stream",
     "text": [
      "scanning 7/16 weight - layer8.0.weight:  70%|███████   | 7/10 [00:53<00:23,  7.83s/it]"
     ]
    },
    {
     "name": "stdout",
     "output_type": "stream",
     "text": [
      "    sparsity=0.60: accuracy=81.87%"
     ]
    },
    {
     "name": "stderr",
     "output_type": "stream",
     "text": [
      "scanning 7/16 weight - layer8.0.weight:  80%|████████  | 8/10 [01:01<00:15,  7.72s/it]"
     ]
    },
    {
     "name": "stdout",
     "output_type": "stream",
     "text": [
      "    sparsity=0.70: accuracy=80.29%"
     ]
    },
    {
     "name": "stderr",
     "output_type": "stream",
     "text": [
      "scanning 7/16 weight - layer8.0.weight:  90%|█████████ | 9/10 [01:09<00:07,  7.81s/it]"
     ]
    },
    {
     "name": "stdout",
     "output_type": "stream",
     "text": [
      "    sparsity=0.80: accuracy=75.06%"
     ]
    },
    {
     "name": "stderr",
     "output_type": "stream",
     "text": [
      "scanning 7/16 weight - layer8.0.weight: 100%|██████████| 10/10 [01:17<00:00,  7.72s/it]\n"
     ]
    },
    {
     "name": "stdout",
     "output_type": "stream",
     "text": [
      "    sparsity=[0.00,0.10,0.20,0.30,0.40,0.50,0.60,0.70,0.80,0.90]: accuracy=[82.81%, 82.80%, 82.81%, 82.73%, 82.74%, 82.50%, 81.87%, 80.29%, 75.06%, 56.08%]<class 'torch.nn.parameter.Parameter'>\n"
     ]
    },
    {
     "name": "stderr",
     "output_type": "stream",
     "text": [
      "scanning 8/16 weight - layer9.0.weight:  10%|█         | 1/10 [00:08<01:13,  8.11s/it]"
     ]
    },
    {
     "name": "stdout",
     "output_type": "stream",
     "text": [
      "    sparsity=0.00: accuracy=82.81%"
     ]
    },
    {
     "name": "stderr",
     "output_type": "stream",
     "text": [
      "scanning 8/16 weight - layer9.0.weight:  20%|██        | 2/10 [00:15<01:02,  7.82s/it]"
     ]
    },
    {
     "name": "stdout",
     "output_type": "stream",
     "text": [
      "    sparsity=0.10: accuracy=82.81%"
     ]
    },
    {
     "name": "stderr",
     "output_type": "stream",
     "text": [
      "scanning 8/16 weight - layer9.0.weight:  30%|███       | 3/10 [00:23<00:53,  7.60s/it]"
     ]
    },
    {
     "name": "stdout",
     "output_type": "stream",
     "text": [
      "    sparsity=0.20: accuracy=82.79%"
     ]
    },
    {
     "name": "stderr",
     "output_type": "stream",
     "text": [
      "scanning 8/16 weight - layer9.0.weight:  40%|████      | 4/10 [00:30<00:44,  7.48s/it]"
     ]
    },
    {
     "name": "stdout",
     "output_type": "stream",
     "text": [
      "    sparsity=0.30: accuracy=82.80%"
     ]
    },
    {
     "name": "stderr",
     "output_type": "stream",
     "text": [
      "scanning 8/16 weight - layer9.0.weight:  50%|█████     | 5/10 [00:37<00:37,  7.44s/it]"
     ]
    },
    {
     "name": "stdout",
     "output_type": "stream",
     "text": [
      "    sparsity=0.40: accuracy=82.74%"
     ]
    },
    {
     "name": "stderr",
     "output_type": "stream",
     "text": [
      "scanning 8/16 weight - layer9.0.weight:  60%|██████    | 6/10 [00:45<00:29,  7.40s/it]"
     ]
    },
    {
     "name": "stdout",
     "output_type": "stream",
     "text": [
      "    sparsity=0.50: accuracy=82.67%"
     ]
    },
    {
     "name": "stderr",
     "output_type": "stream",
     "text": [
      "scanning 8/16 weight - layer9.0.weight:  70%|███████   | 7/10 [00:52<00:22,  7.41s/it]"
     ]
    },
    {
     "name": "stdout",
     "output_type": "stream",
     "text": [
      "    sparsity=0.60: accuracy=82.29%"
     ]
    },
    {
     "name": "stderr",
     "output_type": "stream",
     "text": [
      "scanning 8/16 weight - layer9.0.weight:  80%|████████  | 8/10 [00:59<00:14,  7.39s/it]"
     ]
    },
    {
     "name": "stdout",
     "output_type": "stream",
     "text": [
      "    sparsity=0.70: accuracy=81.03%"
     ]
    },
    {
     "name": "stderr",
     "output_type": "stream",
     "text": [
      "scanning 8/16 weight - layer9.0.weight:  90%|█████████ | 9/10 [01:07<00:07,  7.39s/it]"
     ]
    },
    {
     "name": "stdout",
     "output_type": "stream",
     "text": [
      "    sparsity=0.80: accuracy=77.77%"
     ]
    },
    {
     "name": "stderr",
     "output_type": "stream",
     "text": [
      "scanning 8/16 weight - layer9.0.weight: 100%|██████████| 10/10 [01:14<00:00,  7.46s/it]\n"
     ]
    },
    {
     "name": "stdout",
     "output_type": "stream",
     "text": [
      "    sparsity=[0.00,0.10,0.20,0.30,0.40,0.50,0.60,0.70,0.80,0.90]: accuracy=[82.81%, 82.81%, 82.79%, 82.80%, 82.74%, 82.67%, 82.29%, 81.03%, 77.77%, 66.82%]<class 'torch.nn.parameter.Parameter'>\n"
     ]
    },
    {
     "name": "stderr",
     "output_type": "stream",
     "text": [
      "scanning 9/16 weight - layer10.0.weight:  10%|█         | 1/10 [00:07<01:06,  7.36s/it]"
     ]
    },
    {
     "name": "stdout",
     "output_type": "stream",
     "text": [
      "    sparsity=0.00: accuracy=82.81%"
     ]
    },
    {
     "name": "stderr",
     "output_type": "stream",
     "text": [
      "scanning 9/16 weight - layer10.0.weight:  20%|██        | 2/10 [00:14<00:58,  7.33s/it]"
     ]
    },
    {
     "name": "stdout",
     "output_type": "stream",
     "text": [
      "    sparsity=0.10: accuracy=82.80%"
     ]
    },
    {
     "name": "stderr",
     "output_type": "stream",
     "text": [
      "scanning 9/16 weight - layer10.0.weight:  30%|███       | 3/10 [00:22<00:51,  7.33s/it]"
     ]
    },
    {
     "name": "stdout",
     "output_type": "stream",
     "text": [
      "    sparsity=0.20: accuracy=82.79%"
     ]
    },
    {
     "name": "stderr",
     "output_type": "stream",
     "text": [
      "scanning 9/16 weight - layer10.0.weight:  40%|████      | 4/10 [00:29<00:43,  7.33s/it]"
     ]
    },
    {
     "name": "stdout",
     "output_type": "stream",
     "text": [
      "    sparsity=0.30: accuracy=82.80%"
     ]
    },
    {
     "name": "stderr",
     "output_type": "stream",
     "text": [
      "scanning 9/16 weight - layer10.0.weight:  50%|█████     | 5/10 [00:36<00:36,  7.35s/it]"
     ]
    },
    {
     "name": "stdout",
     "output_type": "stream",
     "text": [
      "    sparsity=0.40: accuracy=82.73%"
     ]
    },
    {
     "name": "stderr",
     "output_type": "stream",
     "text": [
      "scanning 9/16 weight - layer10.0.weight:  60%|██████    | 6/10 [00:44<00:29,  7.33s/it]"
     ]
    },
    {
     "name": "stdout",
     "output_type": "stream",
     "text": [
      "    sparsity=0.50: accuracy=82.68%"
     ]
    },
    {
     "name": "stderr",
     "output_type": "stream",
     "text": [
      "scanning 9/16 weight - layer10.0.weight:  70%|███████   | 7/10 [00:51<00:21,  7.33s/it]"
     ]
    },
    {
     "name": "stdout",
     "output_type": "stream",
     "text": [
      "    sparsity=0.60: accuracy=82.39%"
     ]
    },
    {
     "name": "stderr",
     "output_type": "stream",
     "text": [
      "scanning 9/16 weight - layer10.0.weight:  80%|████████  | 8/10 [00:58<00:14,  7.32s/it]"
     ]
    },
    {
     "name": "stdout",
     "output_type": "stream",
     "text": [
      "    sparsity=0.70: accuracy=81.73%"
     ]
    },
    {
     "name": "stderr",
     "output_type": "stream",
     "text": [
      "scanning 9/16 weight - layer10.0.weight:  90%|█████████ | 9/10 [01:05<00:07,  7.32s/it]"
     ]
    },
    {
     "name": "stdout",
     "output_type": "stream",
     "text": [
      "    sparsity=0.80: accuracy=78.84%"
     ]
    },
    {
     "name": "stderr",
     "output_type": "stream",
     "text": [
      "scanning 9/16 weight - layer10.0.weight: 100%|██████████| 10/10 [01:13<00:00,  7.34s/it]\n"
     ]
    },
    {
     "name": "stdout",
     "output_type": "stream",
     "text": [
      "    sparsity=[0.00,0.10,0.20,0.30,0.40,0.50,0.60,0.70,0.80,0.90]: accuracy=[82.81%, 82.80%, 82.79%, 82.80%, 82.73%, 82.68%, 82.39%, 81.73%, 78.84%, 65.73%]<class 'torch.nn.parameter.Parameter'>\n"
     ]
    },
    {
     "name": "stderr",
     "output_type": "stream",
     "text": [
      "scanning 10/16 weight - layer11.0.weight:  10%|█         | 1/10 [00:07<01:06,  7.44s/it]"
     ]
    },
    {
     "name": "stdout",
     "output_type": "stream",
     "text": [
      "    sparsity=0.00: accuracy=82.81%"
     ]
    },
    {
     "name": "stderr",
     "output_type": "stream",
     "text": [
      "scanning 10/16 weight - layer11.0.weight:  20%|██        | 2/10 [00:14<00:59,  7.40s/it]"
     ]
    },
    {
     "name": "stdout",
     "output_type": "stream",
     "text": [
      "    sparsity=0.10: accuracy=82.81%"
     ]
    },
    {
     "name": "stderr",
     "output_type": "stream",
     "text": [
      "scanning 10/16 weight - layer11.0.weight:  30%|███       | 3/10 [00:22<00:51,  7.41s/it]"
     ]
    },
    {
     "name": "stdout",
     "output_type": "stream",
     "text": [
      "    sparsity=0.20: accuracy=82.80%"
     ]
    },
    {
     "name": "stderr",
     "output_type": "stream",
     "text": [
      "scanning 10/16 weight - layer11.0.weight:  40%|████      | 4/10 [00:29<00:44,  7.39s/it]"
     ]
    },
    {
     "name": "stdout",
     "output_type": "stream",
     "text": [
      "    sparsity=0.30: accuracy=82.79%"
     ]
    },
    {
     "name": "stderr",
     "output_type": "stream",
     "text": [
      "scanning 10/16 weight - layer11.0.weight:  50%|█████     | 5/10 [00:36<00:36,  7.38s/it]"
     ]
    },
    {
     "name": "stdout",
     "output_type": "stream",
     "text": [
      "    sparsity=0.40: accuracy=82.73%"
     ]
    },
    {
     "name": "stderr",
     "output_type": "stream",
     "text": [
      "scanning 10/16 weight - layer11.0.weight:  60%|██████    | 6/10 [00:44<00:29,  7.39s/it]"
     ]
    },
    {
     "name": "stdout",
     "output_type": "stream",
     "text": [
      "    sparsity=0.50: accuracy=82.69%"
     ]
    },
    {
     "name": "stderr",
     "output_type": "stream",
     "text": [
      "scanning 10/16 weight - layer11.0.weight:  70%|███████   | 7/10 [00:51<00:22,  7.38s/it]"
     ]
    },
    {
     "name": "stdout",
     "output_type": "stream",
     "text": [
      "    sparsity=0.60: accuracy=82.41%"
     ]
    },
    {
     "name": "stderr",
     "output_type": "stream",
     "text": [
      "scanning 10/16 weight - layer11.0.weight:  80%|████████  | 8/10 [00:59<00:14,  7.36s/it]"
     ]
    },
    {
     "name": "stdout",
     "output_type": "stream",
     "text": [
      "    sparsity=0.70: accuracy=81.46%"
     ]
    },
    {
     "name": "stderr",
     "output_type": "stream",
     "text": [
      "scanning 10/16 weight - layer11.0.weight:  90%|█████████ | 9/10 [01:06<00:07,  7.36s/it]"
     ]
    },
    {
     "name": "stdout",
     "output_type": "stream",
     "text": [
      "    sparsity=0.80: accuracy=77.65%"
     ]
    },
    {
     "name": "stderr",
     "output_type": "stream",
     "text": [
      "scanning 10/16 weight - layer11.0.weight: 100%|██████████| 10/10 [01:13<00:00,  7.38s/it]\n"
     ]
    },
    {
     "name": "stdout",
     "output_type": "stream",
     "text": [
      "    sparsity=[0.00,0.10,0.20,0.30,0.40,0.50,0.60,0.70,0.80,0.90]: accuracy=[82.81%, 82.81%, 82.80%, 82.79%, 82.73%, 82.69%, 82.41%, 81.46%, 77.65%, 59.90%]<class 'torch.nn.parameter.Parameter'>\n"
     ]
    },
    {
     "name": "stderr",
     "output_type": "stream",
     "text": [
      "scanning 11/16 weight - layer12.0.weight:  10%|█         | 1/10 [00:07<01:06,  7.36s/it]"
     ]
    },
    {
     "name": "stdout",
     "output_type": "stream",
     "text": [
      "    sparsity=0.00: accuracy=82.81%"
     ]
    },
    {
     "name": "stderr",
     "output_type": "stream",
     "text": [
      "scanning 11/16 weight - layer12.0.weight:  20%|██        | 2/10 [00:14<00:58,  7.37s/it]"
     ]
    },
    {
     "name": "stdout",
     "output_type": "stream",
     "text": [
      "    sparsity=0.10: accuracy=82.81%"
     ]
    },
    {
     "name": "stderr",
     "output_type": "stream",
     "text": [
      "scanning 11/16 weight - layer12.0.weight:  30%|███       | 3/10 [00:24<00:59,  8.45s/it]"
     ]
    },
    {
     "name": "stdout",
     "output_type": "stream",
     "text": [
      "    sparsity=0.20: accuracy=82.81%"
     ]
    },
    {
     "name": "stderr",
     "output_type": "stream",
     "text": [
      "scanning 11/16 weight - layer12.0.weight:  40%|████      | 4/10 [00:33<00:50,  8.48s/it]"
     ]
    },
    {
     "name": "stdout",
     "output_type": "stream",
     "text": [
      "    sparsity=0.30: accuracy=82.80%"
     ]
    },
    {
     "name": "stderr",
     "output_type": "stream",
     "text": [
      "scanning 11/16 weight - layer12.0.weight:  50%|█████     | 5/10 [00:40<00:40,  8.08s/it]"
     ]
    },
    {
     "name": "stdout",
     "output_type": "stream",
     "text": [
      "    sparsity=0.40: accuracy=82.76%"
     ]
    },
    {
     "name": "stderr",
     "output_type": "stream",
     "text": [
      "scanning 11/16 weight - layer12.0.weight:  60%|██████    | 6/10 [00:47<00:31,  7.85s/it]"
     ]
    },
    {
     "name": "stdout",
     "output_type": "stream",
     "text": [
      "    sparsity=0.50: accuracy=82.79%"
     ]
    },
    {
     "name": "stderr",
     "output_type": "stream",
     "text": [
      "scanning 11/16 weight - layer12.0.weight:  70%|███████   | 7/10 [00:55<00:23,  7.72s/it]"
     ]
    },
    {
     "name": "stdout",
     "output_type": "stream",
     "text": [
      "    sparsity=0.60: accuracy=82.55%"
     ]
    },
    {
     "name": "stderr",
     "output_type": "stream",
     "text": [
      "scanning 11/16 weight - layer12.0.weight:  80%|████████  | 8/10 [01:02<00:15,  7.62s/it]"
     ]
    },
    {
     "name": "stdout",
     "output_type": "stream",
     "text": [
      "    sparsity=0.70: accuracy=81.93%"
     ]
    },
    {
     "name": "stderr",
     "output_type": "stream",
     "text": [
      "scanning 11/16 weight - layer12.0.weight:  90%|█████████ | 9/10 [01:10<00:07,  7.60s/it]"
     ]
    },
    {
     "name": "stdout",
     "output_type": "stream",
     "text": [
      "    sparsity=0.80: accuracy=78.95%"
     ]
    },
    {
     "name": "stderr",
     "output_type": "stream",
     "text": [
      "scanning 11/16 weight - layer12.0.weight: 100%|██████████| 10/10 [01:17<00:00,  7.78s/it]\n"
     ]
    },
    {
     "name": "stdout",
     "output_type": "stream",
     "text": [
      "    sparsity=[0.00,0.10,0.20,0.30,0.40,0.50,0.60,0.70,0.80,0.90]: accuracy=[82.81%, 82.81%, 82.81%, 82.80%, 82.76%, 82.79%, 82.55%, 81.93%, 78.95%, 59.15%]<class 'torch.nn.parameter.Parameter'>\n"
     ]
    },
    {
     "name": "stderr",
     "output_type": "stream",
     "text": [
      "scanning 12/16 weight - layer13.0.weight:  10%|█         | 1/10 [00:07<01:07,  7.45s/it]"
     ]
    },
    {
     "name": "stdout",
     "output_type": "stream",
     "text": [
      "    sparsity=0.00: accuracy=82.81%"
     ]
    },
    {
     "name": "stderr",
     "output_type": "stream",
     "text": [
      "scanning 12/16 weight - layer13.0.weight:  20%|██        | 2/10 [00:14<00:59,  7.46s/it]"
     ]
    },
    {
     "name": "stdout",
     "output_type": "stream",
     "text": [
      "    sparsity=0.10: accuracy=82.81%"
     ]
    },
    {
     "name": "stderr",
     "output_type": "stream",
     "text": [
      "scanning 12/16 weight - layer13.0.weight:  30%|███       | 3/10 [00:22<00:52,  7.48s/it]"
     ]
    },
    {
     "name": "stdout",
     "output_type": "stream",
     "text": [
      "    sparsity=0.20: accuracy=82.80%"
     ]
    },
    {
     "name": "stderr",
     "output_type": "stream",
     "text": [
      "scanning 12/16 weight - layer13.0.weight:  40%|████      | 4/10 [00:29<00:44,  7.50s/it]"
     ]
    },
    {
     "name": "stdout",
     "output_type": "stream",
     "text": [
      "    sparsity=0.30: accuracy=82.81%"
     ]
    },
    {
     "name": "stderr",
     "output_type": "stream",
     "text": [
      "scanning 12/16 weight - layer13.0.weight:  50%|█████     | 5/10 [00:37<00:37,  7.47s/it]"
     ]
    },
    {
     "name": "stdout",
     "output_type": "stream",
     "text": [
      "    sparsity=0.40: accuracy=82.77%"
     ]
    },
    {
     "name": "stderr",
     "output_type": "stream",
     "text": [
      "scanning 12/16 weight - layer13.0.weight:  60%|██████    | 6/10 [00:44<00:29,  7.43s/it]"
     ]
    },
    {
     "name": "stdout",
     "output_type": "stream",
     "text": [
      "    sparsity=0.50: accuracy=82.74%"
     ]
    },
    {
     "name": "stderr",
     "output_type": "stream",
     "text": [
      "scanning 12/16 weight - layer13.0.weight:  70%|███████   | 7/10 [00:52<00:22,  7.41s/it]"
     ]
    },
    {
     "name": "stdout",
     "output_type": "stream",
     "text": [
      "    sparsity=0.60: accuracy=82.76%"
     ]
    },
    {
     "name": "stderr",
     "output_type": "stream",
     "text": [
      "scanning 12/16 weight - layer13.0.weight:  80%|████████  | 8/10 [00:59<00:14,  7.39s/it]"
     ]
    },
    {
     "name": "stdout",
     "output_type": "stream",
     "text": [
      "    sparsity=0.70: accuracy=82.60%"
     ]
    },
    {
     "name": "stderr",
     "output_type": "stream",
     "text": [
      "scanning 12/16 weight - layer13.0.weight:  90%|█████████ | 9/10 [01:06<00:07,  7.38s/it]"
     ]
    },
    {
     "name": "stdout",
     "output_type": "stream",
     "text": [
      "    sparsity=0.80: accuracy=81.91%"
     ]
    },
    {
     "name": "stderr",
     "output_type": "stream",
     "text": [
      "scanning 12/16 weight - layer13.0.weight: 100%|██████████| 10/10 [01:14<00:00,  7.41s/it]\n"
     ]
    },
    {
     "name": "stdout",
     "output_type": "stream",
     "text": [
      "    sparsity=[0.00,0.10,0.20,0.30,0.40,0.50,0.60,0.70,0.80,0.90]: accuracy=[82.81%, 82.81%, 82.80%, 82.81%, 82.77%, 82.74%, 82.76%, 82.60%, 81.91%, 75.13%]<class 'torch.nn.parameter.Parameter'>\n"
     ]
    },
    {
     "name": "stderr",
     "output_type": "stream",
     "text": [
      "scanning 13/16 weight - fc14.0.weight:  10%|█         | 1/10 [00:07<01:06,  7.36s/it]"
     ]
    },
    {
     "name": "stdout",
     "output_type": "stream",
     "text": [
      "    sparsity=0.00: accuracy=82.81%"
     ]
    },
    {
     "name": "stderr",
     "output_type": "stream",
     "text": [
      "scanning 13/16 weight - fc14.0.weight:  20%|██        | 2/10 [00:14<00:58,  7.32s/it]"
     ]
    },
    {
     "name": "stdout",
     "output_type": "stream",
     "text": [
      "    sparsity=0.10: accuracy=82.80%"
     ]
    },
    {
     "name": "stderr",
     "output_type": "stream",
     "text": [
      "scanning 13/16 weight - fc14.0.weight:  30%|███       | 3/10 [00:22<00:53,  7.60s/it]"
     ]
    },
    {
     "name": "stdout",
     "output_type": "stream",
     "text": [
      "    sparsity=0.20: accuracy=82.82%"
     ]
    },
    {
     "name": "stderr",
     "output_type": "stream",
     "text": [
      "scanning 13/16 weight - fc14.0.weight:  40%|████      | 4/10 [00:29<00:44,  7.50s/it]"
     ]
    },
    {
     "name": "stdout",
     "output_type": "stream",
     "text": [
      "    sparsity=0.30: accuracy=82.83%"
     ]
    },
    {
     "name": "stderr",
     "output_type": "stream",
     "text": [
      "scanning 13/16 weight - fc14.0.weight:  50%|█████     | 5/10 [00:37<00:37,  7.44s/it]"
     ]
    },
    {
     "name": "stdout",
     "output_type": "stream",
     "text": [
      "    sparsity=0.40: accuracy=82.80%"
     ]
    },
    {
     "name": "stderr",
     "output_type": "stream",
     "text": [
      "scanning 13/16 weight - fc14.0.weight:  60%|██████    | 6/10 [00:44<00:29,  7.40s/it]"
     ]
    },
    {
     "name": "stdout",
     "output_type": "stream",
     "text": [
      "    sparsity=0.50: accuracy=82.80%"
     ]
    },
    {
     "name": "stderr",
     "output_type": "stream",
     "text": [
      "scanning 13/16 weight - fc14.0.weight:  70%|███████   | 7/10 [00:51<00:22,  7.37s/it]"
     ]
    },
    {
     "name": "stdout",
     "output_type": "stream",
     "text": [
      "    sparsity=0.60: accuracy=82.76%"
     ]
    },
    {
     "name": "stderr",
     "output_type": "stream",
     "text": [
      "scanning 13/16 weight - fc14.0.weight:  80%|████████  | 8/10 [00:59<00:14,  7.37s/it]"
     ]
    },
    {
     "name": "stdout",
     "output_type": "stream",
     "text": [
      "    sparsity=0.70: accuracy=82.63%"
     ]
    },
    {
     "name": "stderr",
     "output_type": "stream",
     "text": [
      "scanning 13/16 weight - fc14.0.weight:  90%|█████████ | 9/10 [01:06<00:07,  7.36s/it]"
     ]
    },
    {
     "name": "stdout",
     "output_type": "stream",
     "text": [
      "    sparsity=0.80: accuracy=82.64%"
     ]
    },
    {
     "name": "stderr",
     "output_type": "stream",
     "text": [
      "scanning 13/16 weight - fc14.0.weight: 100%|██████████| 10/10 [01:13<00:00,  7.39s/it]\n"
     ]
    },
    {
     "name": "stdout",
     "output_type": "stream",
     "text": [
      "    sparsity=[0.00,0.10,0.20,0.30,0.40,0.50,0.60,0.70,0.80,0.90]: accuracy=[82.81%, 82.80%, 82.82%, 82.83%, 82.80%, 82.80%, 82.76%, 82.63%, 82.64%, 82.39%]<class 'torch.nn.parameter.Parameter'>\n"
     ]
    },
    {
     "name": "stderr",
     "output_type": "stream",
     "text": [
      "scanning 14/16 weight - fc15.1.weight:  10%|█         | 1/10 [00:07<01:05,  7.33s/it]"
     ]
    },
    {
     "name": "stdout",
     "output_type": "stream",
     "text": [
      "    sparsity=0.00: accuracy=82.81%"
     ]
    },
    {
     "name": "stderr",
     "output_type": "stream",
     "text": [
      "scanning 14/16 weight - fc15.1.weight:  20%|██        | 2/10 [00:14<00:59,  7.40s/it]"
     ]
    },
    {
     "name": "stdout",
     "output_type": "stream",
     "text": [
      "    sparsity=0.10: accuracy=82.81%"
     ]
    },
    {
     "name": "stderr",
     "output_type": "stream",
     "text": [
      "scanning 14/16 weight - fc15.1.weight:  30%|███       | 3/10 [00:22<00:52,  7.45s/it]"
     ]
    },
    {
     "name": "stdout",
     "output_type": "stream",
     "text": [
      "    sparsity=0.20: accuracy=82.80%"
     ]
    },
    {
     "name": "stderr",
     "output_type": "stream",
     "text": [
      "scanning 14/16 weight - fc15.1.weight:  40%|████      | 4/10 [00:29<00:44,  7.45s/it]"
     ]
    },
    {
     "name": "stdout",
     "output_type": "stream",
     "text": [
      "    sparsity=0.30: accuracy=82.81%"
     ]
    },
    {
     "name": "stderr",
     "output_type": "stream",
     "text": [
      "scanning 14/16 weight - fc15.1.weight:  50%|█████     | 5/10 [00:37<00:37,  7.45s/it]"
     ]
    },
    {
     "name": "stdout",
     "output_type": "stream",
     "text": [
      "    sparsity=0.40: accuracy=82.81%"
     ]
    },
    {
     "name": "stderr",
     "output_type": "stream",
     "text": [
      "scanning 14/16 weight - fc15.1.weight:  60%|██████    | 6/10 [00:44<00:29,  7.44s/it]"
     ]
    },
    {
     "name": "stdout",
     "output_type": "stream",
     "text": [
      "    sparsity=0.50: accuracy=82.80%"
     ]
    },
    {
     "name": "stderr",
     "output_type": "stream",
     "text": [
      "scanning 14/16 weight - fc15.1.weight:  70%|███████   | 7/10 [00:52<00:22,  7.43s/it]"
     ]
    },
    {
     "name": "stdout",
     "output_type": "stream",
     "text": [
      "    sparsity=0.60: accuracy=82.78%"
     ]
    },
    {
     "name": "stderr",
     "output_type": "stream",
     "text": [
      "scanning 14/16 weight - fc15.1.weight:  80%|████████  | 8/10 [00:59<00:14,  7.45s/it]"
     ]
    },
    {
     "name": "stdout",
     "output_type": "stream",
     "text": [
      "    sparsity=0.70: accuracy=82.74%"
     ]
    },
    {
     "name": "stderr",
     "output_type": "stream",
     "text": [
      "scanning 14/16 weight - fc15.1.weight:  90%|█████████ | 9/10 [01:06<00:07,  7.45s/it]"
     ]
    },
    {
     "name": "stdout",
     "output_type": "stream",
     "text": [
      "    sparsity=0.80: accuracy=82.71%"
     ]
    },
    {
     "name": "stderr",
     "output_type": "stream",
     "text": [
      "scanning 14/16 weight - fc15.1.weight: 100%|██████████| 10/10 [01:14<00:00,  7.44s/it]\n"
     ]
    },
    {
     "name": "stdout",
     "output_type": "stream",
     "text": [
      "    sparsity=[0.00,0.10,0.20,0.30,0.40,0.50,0.60,0.70,0.80,0.90]: accuracy=[82.81%, 82.81%, 82.80%, 82.81%, 82.81%, 82.80%, 82.78%, 82.74%, 82.71%, 82.60%]<class 'torch.nn.parameter.Parameter'>\n"
     ]
    },
    {
     "name": "stderr",
     "output_type": "stream",
     "text": [
      "scanning 15/16 weight - fc16.0.weight:  10%|█         | 1/10 [00:07<01:05,  7.33s/it]"
     ]
    },
    {
     "name": "stdout",
     "output_type": "stream",
     "text": [
      "    sparsity=0.00: accuracy=82.81%"
     ]
    },
    {
     "name": "stderr",
     "output_type": "stream",
     "text": [
      "scanning 15/16 weight - fc16.0.weight:  20%|██        | 2/10 [00:14<00:58,  7.33s/it]"
     ]
    },
    {
     "name": "stdout",
     "output_type": "stream",
     "text": [
      "    sparsity=0.10: accuracy=82.79%"
     ]
    },
    {
     "name": "stderr",
     "output_type": "stream",
     "text": [
      "scanning 15/16 weight - fc16.0.weight:  30%|███       | 3/10 [00:21<00:51,  7.33s/it]"
     ]
    },
    {
     "name": "stdout",
     "output_type": "stream",
     "text": [
      "    sparsity=0.20: accuracy=82.78%"
     ]
    },
    {
     "name": "stderr",
     "output_type": "stream",
     "text": [
      "scanning 15/16 weight - fc16.0.weight:  40%|████      | 4/10 [00:29<00:43,  7.33s/it]"
     ]
    },
    {
     "name": "stdout",
     "output_type": "stream",
     "text": [
      "    sparsity=0.30: accuracy=82.78%"
     ]
    },
    {
     "name": "stderr",
     "output_type": "stream",
     "text": [
      "scanning 15/16 weight - fc16.0.weight:  50%|█████     | 5/10 [00:36<00:36,  7.34s/it]"
     ]
    },
    {
     "name": "stdout",
     "output_type": "stream",
     "text": [
      "    sparsity=0.40: accuracy=82.76%"
     ]
    },
    {
     "name": "stderr",
     "output_type": "stream",
     "text": [
      "scanning 15/16 weight - fc16.0.weight:  60%|██████    | 6/10 [00:43<00:29,  7.33s/it]"
     ]
    },
    {
     "name": "stdout",
     "output_type": "stream",
     "text": [
      "    sparsity=0.50: accuracy=82.76%"
     ]
    },
    {
     "name": "stderr",
     "output_type": "stream",
     "text": [
      "scanning 15/16 weight - fc16.0.weight:  70%|███████   | 7/10 [00:51<00:21,  7.33s/it]"
     ]
    },
    {
     "name": "stdout",
     "output_type": "stream",
     "text": [
      "    sparsity=0.60: accuracy=82.76%"
     ]
    },
    {
     "name": "stderr",
     "output_type": "stream",
     "text": [
      "scanning 15/16 weight - fc16.0.weight:  80%|████████  | 8/10 [00:58<00:14,  7.34s/it]"
     ]
    },
    {
     "name": "stdout",
     "output_type": "stream",
     "text": [
      "    sparsity=0.70: accuracy=82.34%"
     ]
    },
    {
     "name": "stderr",
     "output_type": "stream",
     "text": [
      "scanning 15/16 weight - fc16.0.weight:  90%|█████████ | 9/10 [01:05<00:07,  7.34s/it]"
     ]
    },
    {
     "name": "stdout",
     "output_type": "stream",
     "text": [
      "    sparsity=0.80: accuracy=81.70%"
     ]
    },
    {
     "name": "stderr",
     "output_type": "stream",
     "text": [
      "scanning 15/16 weight - fc16.0.weight: 100%|██████████| 10/10 [01:13<00:00,  7.33s/it]"
     ]
    },
    {
     "name": "stdout",
     "output_type": "stream",
     "text": [
      "    sparsity=[0.00,0.10,0.20,0.30,0.40,0.50,0.60,0.70,0.80,0.90]: accuracy=[82.81%, 82.79%, 82.78%, 82.78%, 82.76%, 82.76%, 82.76%, 82.34%, 81.70%, 71.37%]"
     ]
    },
    {
     "name": "stderr",
     "output_type": "stream",
     "text": [
      "\n"
     ]
    }
   ],
   "source": [
    "@torch.no_grad()\n",
    "def sensitivity_scan(model, dataloader, scan_step=0.1, scan_start=0, scan_end=1.0):\n",
    "    sparsities = np.arange(start=scan_start, stop=scan_end, step=scan_step)\n",
    "    accuracies = []\n",
    "    named_conv_weights = [(name, param) for (name, param) \\\n",
    "                          in model.named_parameters() if param.dim() > 1]\n",
    "    for i_layer, (name, param) in enumerate(named_conv_weights):\n",
    "        print(type(param))\n",
    "        param_clone = param.detach().clone()\n",
    "        accuracy = []\n",
    "        for sparsity in tqdm(sparsities, desc=f'scanning {i_layer}/{len(named_conv_weights)} weight - {name}'):\n",
    "            fine_grained_prune(param.detach(), sparsity=sparsity)\n",
    "            acc = evaluate(model, dataloader, verbose=False)\n",
    "            print(f'\\r    sparsity={sparsity:.2f}: accuracy={acc:.2f}%', end='')\n",
    "            # restore\n",
    "            param.copy_(param_clone)\n",
    "            accuracy.append(acc)\n",
    "        print(f'\\r    sparsity=[{\",\".join([\"{:.2f}\".format(x) for x in sparsities])}]: accuracy=[{\", \".join([\"{:.2f}%\".format(x) for x in accuracy])}]', end='')\n",
    "        accuracies.append(accuracy)\n",
    "    return sparsities, accuracies\n",
    "\n",
    "\n",
    "sparsities, accuracies = sensitivity_scan(\n",
    "    model, dataloader['test'], scan_step=0.1, scan_start=0, scan_end=1.0)\n",
    "     "
   ]
  },
  {
   "cell_type": "code",
   "execution_count": 23,
   "metadata": {},
   "outputs": [
    {
     "data": {
      "image/png": "[encoded data removed]",
      "text/plain": [
       "<Figure size 640x480 with 1 Axes>"
      ]
     },
     "metadata": {},
     "output_type": "display_data"
    }
   ],
   "source": [
    "\n",
    "for i in range(len(accuracies)):\n",
    "    plt.plot(sparsities, accuracies[i], label=f'layer {i}')\n",
    "\n",
    "plt.xlabel('sparsity')\n",
    "plt.ylabel('accuracy')\n",
    "plt.legend()\n",
    "\n",
    "plt.show()"
   ]
  },
  {
   "cell_type": "code",
   "execution_count": 24,
   "metadata": {},
   "outputs": [
    {
     "data": {
      "image/png": "[encoded data removed]",
      "text/plain": [
       "<Figure size 1000x600 with 16 Axes>"
      ]
     },
     "metadata": {},
     "output_type": "display_data"
    }
   ],
   "source": [
    "# plt.plot(sparsities, accuracies[2])\n",
    "\n",
    "# plt.xlabel('sparsity')\n",
    "# plt.ylabel('accuracy')\n",
    "# plt.legend()\n",
    "\n",
    "# plt.show()\n",
    "fig, ax = plt.subplots(4, 4, figsize=(10,6))\n",
    "ax = ax.ravel()\n",
    "for i in range(len(accuracies)):\n",
    "    ax[i].plot(sparsities, accuracies[i])\n",
    "    ax[i].set_title(f'layer {i}')\n",
    "    ax[i].set_xlabel('sparsity')\n",
    "    ax[i].set_ylabel('accuracy')\n",
    "\n",
    "plt.show()"
   ]
  },
  {
   "cell_type": "code",
   "execution_count": 35,
   "metadata": {},
   "outputs": [],
   "source": [
    "#from the sensitivity scan we can see that the best sparsity for each layer is as follows\n",
    "sparsities = [0,0.4,0.4,0.5, 0.5, 0.5, 0.5,0.5, 0.5, 0.5, 0.5, 0.5, 0.6, 0.2, 0.4, 0.5]\n"
   ]
  },
  {
   "cell_type": "code",
   "execution_count": 30,
   "metadata": {},
   "outputs": [
    {
     "data": {
      "image/png": "[encoded data removed]",
      "text/plain": [
       "<Figure size 800x600 with 1 Axes>"
      ]
     },
     "metadata": {},
     "output_type": "display_data"
    }
   ],
   "source": [
    "def plot_num_parameters_distribution(model):\n",
    "    num_parameters = dict()\n",
    "    for name, param in model.named_parameters():\n",
    "        if param.dim() > 1:\n",
    "            num_parameters[name] = param.numel()\n",
    "    fig = plt.figure(figsize=(8, 6))\n",
    "    plt.grid(axis='y')\n",
    "    plt.bar(list(num_parameters.keys()), list(num_parameters.values()))\n",
    "    plt.title('#Parameter Distribution')\n",
    "    plt.ylabel('Number of Parameters')\n",
    "    plt.xticks(rotation=60)\n",
    "    plt.tight_layout()\n",
    "    plt.show()\n",
    "\n",
    "plot_num_parameters_distribution(model)"
   ]
  },
  {
   "cell_type": "code",
   "execution_count": 32,
   "metadata": {},
   "outputs": [
    {
     "data": {
      "text/plain": [
       "128.35184478759766"
      ]
     },
     "execution_count": 32,
     "metadata": {},
     "output_type": "execute_result"
    }
   ],
   "source": [
    "dense_model_size = get_model_size(model)\n",
    "dense_model_size/MiB"
   ]
  },
  {
   "cell_type": "code",
   "execution_count": 37,
   "metadata": {},
   "outputs": [
    {
     "name": "stdout",
     "output_type": "stream",
     "text": [
      "After pruning with sparsity dictionary\n",
      "The sparsity of each layer becomes\n",
      "  layer1.0.weight: 0.00\n",
      "  layer2.0.weight: 0.40\n",
      "  layer3.0.weight: 0.40\n",
      "  layer4.0.weight: 0.50\n",
      "  layer5.0.weight: 0.50\n",
      "  layer6.0.weight: 0.50\n",
      "  layer7.0.weight: 0.60\n",
      "  layer8.0.weight: 0.70\n",
      "  layer9.0.weight: 0.80\n",
      "  layer10.0.weight: 0.90\n",
      "  layer11.0.weight: 0.50\n",
      "  layer12.0.weight: 0.50\n",
      "  layer13.0.weight: 0.60\n",
      "  fc14.0.weight: 0.20\n",
      "  fc15.1.weight: 0.40\n",
      "  fc16.0.weight: 0.50\n",
      "Sparse model has size=64.74 MiB = 50.44% of dense model size\n"
     ]
    },
    {
     "name": "stderr",
     "output_type": "stream",
     "text": [
      "                                                     \r"
     ]
    },
    {
     "name": "stdout",
     "output_type": "stream",
     "text": [
      "Sparse model has accuracy=42.03% before fintuning\n"
     ]
    },
    {
     "data": {
      "image/png": "[encoded data removed]",
      "text/plain": [
       "<Figure size 1000x600 with 16 Axes>"
      ]
     },
     "metadata": {},
     "output_type": "display_data"
    }
   ],
   "source": [
    "class FineGrainedPruner:\n",
    "    def __init__(self, model, sparsities):\n",
    "        self.masks = FineGrainedPruner.prune(model, sparsities)\n",
    "\n",
    "    @torch.no_grad()\n",
    "    def apply(self, model):\n",
    "        for name, param in model.named_parameters():\n",
    "            if name in self.masks:\n",
    "                param *= self.masks[name]\n",
    "\n",
    "    @staticmethod\n",
    "    @torch.no_grad()\n",
    "    def prune(model, sparsities):\n",
    "        masks = dict()\n",
    "        i = 0\n",
    "        for name, param in model.named_parameters():\n",
    "            if param.dim() > 1: # we only prune conv and fc weights\n",
    "                masks[name] = fine_grained_prune(param, sparsities[i])\n",
    "                i +=1\n",
    "            \n",
    "        return masks\n",
    "    \n",
    "pruner = FineGrainedPruner(model, sparsities)\n",
    "print(f'After pruning with sparsity dictionary')\n",
    "# for name, sparsity in sparsities.items():\n",
    "#     print(f'  {name}: {sparsity:.2f}')\n",
    "print(f'The sparsity of each layer becomes')\n",
    "for name, param in model.named_parameters():\n",
    "    if param.dim() > 1:\n",
    "        print(f'  {name}: {get_sparsity(param):.2f}')\n",
    "sparse_model_size = get_model_size(model, count_nonzero_only=True)\n",
    "print(f\"Sparse model has size={sparse_model_size / MiB:.2f} MiB = {sparse_model_size / dense_model_size * 100:.2f}% of dense model size\")\n",
    "sparse_model_accuracy = evaluate(model, dataloader['test'])\n",
    "print(f\"Sparse model has accuracy={sparse_model_accuracy:.2f}% before fintuning\")\n",
    "\n",
    "plot_weight_distribution(model, count_nonzero_only=True)\n",
    "     "
   ]
  },
  {
   "cell_type": "code",
   "execution_count": 38,
   "metadata": {},
   "outputs": [
    {
     "name": "stdout",
     "output_type": "stream",
     "text": [
      "Finetuning Fine-grained Pruned Sparse Model\n"
     ]
    },
    {
     "name": "stderr",
     "output_type": "stream",
     "text": [
      "                                                      \r"
     ]
    },
    {
     "name": "stdout",
     "output_type": "stream",
     "text": [
      "    Epoch 1 Accuracy 83.77% / Best Accuracy: 83.77%\n"
     ]
    },
    {
     "name": "stderr",
     "output_type": "stream",
     "text": [
      "                                                      \r"
     ]
    },
    {
     "name": "stdout",
     "output_type": "stream",
     "text": [
      "    Epoch 2 Accuracy 81.94% / Best Accuracy: 83.77%\n"
     ]
    },
    {
     "name": "stderr",
     "output_type": "stream",
     "text": [
      "                                                      \r"
     ]
    },
    {
     "name": "stdout",
     "output_type": "stream",
     "text": [
      "    Epoch 3 Accuracy 84.24% / Best Accuracy: 84.24%\n"
     ]
    },
    {
     "name": "stderr",
     "output_type": "stream",
     "text": [
      "                                                      \r"
     ]
    },
    {
     "name": "stdout",
     "output_type": "stream",
     "text": [
      "    Epoch 4 Accuracy 81.55% / Best Accuracy: 84.24%\n"
     ]
    },
    {
     "name": "stderr",
     "output_type": "stream",
     "text": [
      "                                                      "
     ]
    },
    {
     "name": "stdout",
     "output_type": "stream",
     "text": [
      "    Epoch 5 Accuracy 83.82% / Best Accuracy: 84.24%\n"
     ]
    },
    {
     "name": "stderr",
     "output_type": "stream",
     "text": [
      "\r"
     ]
    }
   ],
   "source": [
    "import copy\n",
    "num_finetune_epochs = 5\n",
    "optimizer = torch.optim.SGD(model.parameters(), lr=0.01, momentum=0.9, weight_decay=1e-4)\n",
    "scheduler = torch.optim.lr_scheduler.CosineAnnealingLR(optimizer, num_finetune_epochs)\n",
    "criterion = nn.CrossEntropyLoss()\n",
    "\n",
    "best_sparse_model_checkpoint = dict()\n",
    "best_accuracy = 0\n",
    "print(f'Finetuning Fine-grained Pruned Sparse Model')\n",
    "for epoch in range(num_finetune_epochs):\n",
    "    # At the end of each train iteration, we have to apply the pruning mask\n",
    "    #    to keep the model sparse during the training\n",
    "    train(model, dataloader['train'], criterion, optimizer)\n",
    "    accuracy = evaluate(model, dataloader['test'])\n",
    "    is_best = accuracy > best_accuracy\n",
    "    if is_best:\n",
    "        best_sparse_model_checkpoint['state_dict'] = copy.deepcopy(model.state_dict())\n",
    "        best_accuracy = accuracy\n",
    "    print(f'    Epoch {epoch+1} Accuracy {accuracy:.2f}% / Best Accuracy: {best_accuracy:.2f}%')"
   ]
  },
  {
   "cell_type": "code",
   "execution_count": 39,
   "metadata": {},
   "outputs": [
    {
     "name": "stdout",
     "output_type": "stream",
     "text": [
      "Sparse model has size=101.67 MiB = 79.22% of dense model size\n"
     ]
    },
    {
     "name": "stderr",
     "output_type": "stream",
     "text": [
      "                                                     "
     ]
    },
    {
     "name": "stdout",
     "output_type": "stream",
     "text": [
      "Sparse model has accuracy=84.24% after fintuning\n"
     ]
    },
    {
     "name": "stderr",
     "output_type": "stream",
     "text": [
      "\r"
     ]
    }
   ],
   "source": [
    "model.load_state_dict(best_sparse_model_checkpoint['state_dict'])\n",
    "sparse_model_size = get_model_size(model, count_nonzero_only=True)\n",
    "print(f\"Sparse model has size={sparse_model_size / MiB:.2f} MiB = {sparse_model_size / dense_model_size * 100:.2f}% of dense model size\")\n",
    "sparse_model_accuracy = evaluate(model, dataloader['test'])\n",
    "print(f\"Sparse model has accuracy={sparse_model_accuracy:.2f}% after fintuning\")\n",
    "     "
   ]
  }
 ],
 "metadata": {
  "kernelspec": {
   "display_name": "saidl",
   "language": "python",
   "name": "python3"
  },
  "language_info": {
   "codemirror_mode": {
    "name": "ipython",
    "version": 3
   },
   "file_extension": ".py",
   "mimetype": "text/x-python",
   "name": "python",
   "nbconvert_exporter": "python",
   "pygments_lexer": "ipython3",
   "version": "3.9.19"
  }
 },
 "nbformat": 4,
 "nbformat_minor": 2
}
