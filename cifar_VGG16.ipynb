{
  "cells": [
    {
      "cell_type": "markdown",
      "metadata": {
        "id": "view-in-github",
        "colab_type": "text"
      },
      "source": [
        "<a href=\"https://colab.research.google.com/github/WhatRaSudeep/SAiDL-Spring-Assignment-2024/blob/main/cifar_VGG16.ipynb\" target=\"_parent\"><img src=\"https://colab.research.google.com/assets/colab-badge.svg\" alt=\"Open In Colab\"/></a>"
      ]
    },
    {
      "cell_type": "code",
      "execution_count": 2,
      "metadata": {
        "id": "mTYRtuDR_MQV"
      },
      "outputs": [],
      "source": [
        "import torch\n",
        "import torch.nn as nn\n",
        "from torch.utils.data import DataLoader\n",
        "from torchvision import datasets, transforms\n",
        "from torchvision.transforms import ToTensor"
      ]
    },
    {
      "cell_type": "code",
      "source": [
        "import torch\n",
        "from torch import nn\n",
        "from torch.optim import Optimizer\n",
        "from torchvision.datasets import CIFAR10\n",
        "from torchvision.transforms import Compose, RandomCrop, RandomHorizontalFlip, ToTensor\n",
        "from torch.optim.lr_scheduler import MultiStepLR\n",
        "from torch.utils.data import DataLoader\n",
        "\n",
        "from tqdm.auto import tqdm\n",
        "\n",
        "\n",
        "def train(\n",
        "  model: nn.Module,\n",
        "  dataloader: DataLoader,\n",
        "  criterion: nn.Module,\n",
        "  optimizer: Optimizer,\n",
        ") -> None:\n",
        "  model.train()\n",
        "\n",
        "  for inputs, targets in tqdm(dataloader, desc='train', leave=False):\n",
        "    # Move the data from CPU to GPU\n",
        "    inputs = inputs.cuda()\n",
        "    targets = targets.cuda()\n",
        "\n",
        "    # Reset the gradients (from the last iteration)\n",
        "    optimizer.zero_grad()\n",
        "\n",
        "    # Forward inference\n",
        "    outputs = model(inputs)\n",
        "    loss = criterion(outputs, targets)\n",
        "\n",
        "    # Backward propagation\n",
        "    loss.backward()\n",
        "\n",
        "    # Update optimizer\n",
        "    optimizer.step()\n",
        "\n",
        "@torch.inference_mode()\n",
        "def evaluate(\n",
        "  model: nn.Module,\n",
        "  dataloader: DataLoader,\n",
        "  verbose=True,\n",
        ") -> float:\n",
        "  model.eval()\n",
        "\n",
        "  num_samples = 0\n",
        "  num_correct = 0\n",
        "\n",
        "  for inputs, targets in tqdm(dataloader, desc=\"eval\", leave=False,\n",
        "                              disable=not verbose):\n",
        "    # Move the data from CPU to GPU\n",
        "    inputs = inputs.cuda()\n",
        "    targets = targets.cuda()\n",
        "\n",
        "    # Inference\n",
        "    outputs = model(inputs)\n",
        "\n",
        "    # Convert logits to class indices\n",
        "    outputs = outputs.argmax(dim=1)\n",
        "\n",
        "    # Update metrics\n",
        "    num_samples += targets.size(0)\n",
        "    num_correct += (outputs == targets).sum()\n",
        "\n",
        "  return (num_correct / num_samples * 100).item()\n",
        "\n",
        "def get_sparsity(tensor: torch.Tensor) -> float:\n",
        "    \"\"\"\n",
        "    calculate the sparsity of the given tensor\n",
        "        sparsity = #zeros / #elements = 1 - #nonzeros / #elements\n",
        "    \"\"\"\n",
        "    return 1 - float(tensor.count_nonzero()) / tensor.numel()\n",
        "\n",
        "\n",
        "def get_model_sparsity(model: nn.Module) -> float:\n",
        "    \"\"\"\n",
        "    calculate the sparsity of the given model\n",
        "        sparsity = #zeros / #elements = 1 - #nonzeros / #elements\n",
        "    \"\"\"\n",
        "    num_nonzeros, num_elements = 0, 0\n",
        "    for param in model.parameters():\n",
        "        num_nonzeros += param.count_nonzero()\n",
        "        num_elements += param.numel()\n",
        "    return 1 - float(num_nonzeros) / num_elements\n",
        "\n",
        "def get_num_parameters(model: nn.Module, count_nonzero_only=False) -> int:\n",
        "    \"\"\"\n",
        "    calculate the total number of parameters of model\n",
        "    :param count_nonzero_only: only count nonzero weights\n",
        "    \"\"\"\n",
        "    num_counted_elements = 0\n",
        "    for param in model.parameters():\n",
        "        if count_nonzero_only:\n",
        "            num_counted_elements += param.count_nonzero()\n",
        "        else:\n",
        "            num_counted_elements += param.numel()\n",
        "    return num_counted_elements\n",
        "\n",
        "\n",
        "def get_model_size(model: nn.Module, data_width=32, count_nonzero_only=False) -> int:\n",
        "    \"\"\"\n",
        "    calculate the model size in bits\n",
        "    :param data_width: #bits per element\n",
        "    :param count_nonzero_only: only count nonzero weights\n",
        "    \"\"\"\n",
        "    return get_num_parameters(model, count_nonzero_only) * data_width\n",
        "\n",
        "Byte = 8\n",
        "KiB = 1024 * Byte\n",
        "MiB = 1024 * KiB\n",
        "GiB = 1024 * MiB\n",
        "\n",
        "#Ideal Dataset and Dataloader organization, don't hesitate to do something else\n",
        "image_size = 32\n",
        "transforms = {\n",
        "    \"train\": Compose([\n",
        "        RandomCrop(image_size, padding=4),\n",
        "        RandomHorizontalFlip(),\n",
        "        ToTensor(),\n",
        "    ]),\n",
        "    \"test\": ToTensor(),\n",
        "}\n",
        "dataset = {}\n",
        "for split in [\"train\", \"test\"]:\n",
        "  dataset[split] = CIFAR10(\n",
        "    root=\"data/cifar10\",\n",
        "    train=(split == \"train\"),\n",
        "    download=True,\n",
        "    transform=transforms[split],\n",
        "  )\n",
        "# dataloader = {}\n",
        "# for split in ['train', 'test']:\n",
        "#   dataloader[split] = DataLoader(\n",
        "#     dataset[split],\n",
        "#     batch_size=512,\n",
        "#     shuffle=(split == 'train'),\n",
        "#     num_workers=0,\n",
        "#     pin_memory=True,\n",
        "#   )"
      ],
      "metadata": {
        "colab": {
          "base_uri": "https://localhost:8080/"
        },
        "id": "5bntm8bt_lWH",
        "outputId": "b9b385fe-3280-4ee4-f283-bca038dbb977"
      },
      "execution_count": 3,
      "outputs": [
        {
          "output_type": "stream",
          "name": "stdout",
          "text": [
            "Downloading https://www.cs.toronto.edu/~kriz/cifar-10-python.tar.gz to data/cifar10/cifar-10-python.tar.gz\n"
          ]
        },
        {
          "output_type": "stream",
          "name": "stderr",
          "text": [
            "100%|██████████| 170498071/170498071 [00:10<00:00, 16470912.59it/s]\n"
          ]
        },
        {
          "output_type": "stream",
          "name": "stdout",
          "text": [
            "Extracting data/cifar10/cifar-10-python.tar.gz to data/cifar10\n",
            "Files already downloaded and verified\n"
          ]
        }
      ]
    },
    {
      "cell_type": "code",
      "execution_count": null,
      "metadata": {
        "id": "V7AWrHiI_MQX",
        "outputId": "3b55760a-edd7-4c96-bfb3-72d10e06c85a"
      },
      "outputs": [
        {
          "name": "stdout",
          "output_type": "stream",
          "text": [
            "Files already downloaded and verified\n",
            "Files already downloaded and verified\n"
          ]
        }
      ],
      "source": [
        "# training_data = datasets.CIFAR10(\n",
        "#     root=\"data\",\n",
        "#     train=True,\n",
        "#     download=True,\n",
        "#     transform=ToTensor()\n",
        "# )\n",
        "# testing_data = datasets.CIFAR10(\n",
        "#     root=\"data\",\n",
        "#     train=False,\n",
        "#     download=True,\n",
        "#     transform=ToTensor()\n",
        "# )\n",
        "# validation_data, training_data = torch.utils.data.random_split(training_data, [5000, 45000])\n"
      ]
    },
    {
      "cell_type": "code",
      "source": [
        "dataset['validation'], dataset['train'] = torch.utils.data.random_split(dataset['train'], [5000, 45000])"
      ],
      "metadata": {
        "id": "uDQQZ6_vAi12"
      },
      "execution_count": 4,
      "outputs": []
    },
    {
      "cell_type": "code",
      "source": [
        "dataloader = {}\n",
        "for split in ['train', 'test', 'validation']:\n",
        "  dataloader[split] = DataLoader(\n",
        "    dataset[split],\n",
        "    batch_size=512,\n",
        "    shuffle=(split == 'train'),\n",
        "    num_workers=0,\n",
        "    pin_memory=True,\n",
        "  )"
      ],
      "metadata": {
        "id": "B1BadXPSBBO6"
      },
      "execution_count": 5,
      "outputs": []
    },
    {
      "cell_type": "code",
      "execution_count": 6,
      "metadata": {
        "colab": {
          "base_uri": "https://localhost:8080/"
        },
        "id": "D0nP3mPt_MQY",
        "outputId": "e8195c0d-3ceb-4dec-aa2b-a827c3185627"
      },
      "outputs": [
        {
          "output_type": "stream",
          "name": "stdout",
          "text": [
            "Shape of X [N, C, H, W]:  torch.Size([512, 3, 32, 32])\n",
            "Shape of Y:  torch.Size([512]) torch.int64\n"
          ]
        }
      ],
      "source": [
        "# batch_size = 64\n",
        "# train_dataloader = DataLoader(training_data, batch_size=batch_size)\n",
        "# test_dataloader = DataLoader(testing_data, batch_size=batch_size)\n",
        "# validation_dataloader = DataLoader(validation_data, batch_size=batch_size)\n",
        "for x,y in dataloader['train']:\n",
        "    print(\"Shape of X [N, C, H, W]: \", x.shape)\n",
        "    print(\"Shape of Y: \", y.shape, y.dtype)\n",
        "    break"
      ]
    },
    {
      "cell_type": "code",
      "execution_count": 22,
      "metadata": {
        "id": "yQfGp75p_MQY"
      },
      "outputs": [],
      "source": [
        "class VGG16(nn.Module):\n",
        "    def __init__(self, num_classes=10):\n",
        "        super(VGG16, self).__init__()\n",
        "        self.layer1 = nn.Sequential(\n",
        "            nn.Conv2d(3, 64, kernel_size=3, stride=1, padding=1),\n",
        "            nn.BatchNorm2d(64),\n",
        "            nn.ReLU())\n",
        "        self.layer2 = nn.Sequential(\n",
        "            nn.Conv2d(64, 64, kernel_size=3, stride=1, padding=1),\n",
        "            nn.BatchNorm2d(64),\n",
        "            nn.ReLU(),\n",
        "            nn.MaxPool2d(kernel_size = 2, stride = 2))\n",
        "        self.layer3 = nn.Sequential(\n",
        "            nn.Conv2d(64, 128, kernel_size=3, stride=1, padding=1),\n",
        "            nn.BatchNorm2d(128),\n",
        "            nn.ReLU())\n",
        "        self.layer4 = nn.Sequential(\n",
        "            nn.Conv2d(128, 128, kernel_size=3, stride=1, padding=1),\n",
        "            nn.BatchNorm2d(128),\n",
        "            nn.ReLU(),\n",
        "            nn.MaxPool2d(kernel_size = 2, stride = 2))\n",
        "        self.layer5 = nn.Sequential(\n",
        "            nn.Conv2d(128, 256, kernel_size=3, stride=1, padding=1),\n",
        "            nn.BatchNorm2d(256),\n",
        "            nn.ReLU())\n",
        "        self.layer6 = nn.Sequential(\n",
        "            nn.Conv2d(256, 256, kernel_size=3, stride=1, padding=1),\n",
        "            nn.BatchNorm2d(256),\n",
        "            nn.ReLU())\n",
        "        self.layer7 = nn.Sequential(\n",
        "            nn.Conv2d(256, 256, kernel_size=3, stride=1, padding=1),\n",
        "            nn.BatchNorm2d(256),\n",
        "            nn.ReLU(),\n",
        "            nn.MaxPool2d(kernel_size = 2, stride = 2))\n",
        "        self.layer8 = nn.Sequential(\n",
        "            nn.Conv2d(256, 512, kernel_size=3, stride=1, padding=1),\n",
        "            nn.BatchNorm2d(512),\n",
        "            nn.ReLU())\n",
        "        self.layer9 = nn.Sequential(\n",
        "            nn.Conv2d(512, 512, kernel_size=3, stride=1, padding=1),\n",
        "            nn.BatchNorm2d(512),\n",
        "            nn.ReLU())\n",
        "        self.layer10 = nn.Sequential(\n",
        "            nn.Conv2d(512, 512, kernel_size=3, stride=1, padding=1),\n",
        "            nn.BatchNorm2d(512),\n",
        "            nn.ReLU(),\n",
        "            nn.MaxPool2d(kernel_size = 2, stride = 2))\n",
        "        self.layer11 = nn.Sequential(\n",
        "            nn.Conv2d(512, 512, kernel_size=3, stride=1, padding=1),\n",
        "            nn.BatchNorm2d(512),\n",
        "            nn.ReLU())\n",
        "        self.layer12 = nn.Sequential(\n",
        "            nn.Conv2d(512, 512, kernel_size=3, stride=1, padding=1),\n",
        "            nn.BatchNorm2d(512),\n",
        "            nn.ReLU())\n",
        "        self.layer13 = nn.Sequential(\n",
        "            nn.Conv2d(512, 512, kernel_size=3, stride=1, padding=1),\n",
        "            nn.BatchNorm2d(512),\n",
        "            nn.ReLU(),\n",
        "            nn.MaxPool2d(kernel_size = 2, stride = 2),\n",
        "            nn.AvgPool2d(kernel_size=1, stride=1))\n",
        "        self.fc14 = nn.Sequential(\n",
        "            nn.Linear(512, 4096),\n",
        "            nn.Dropout(0.5),\n",
        "            nn.ReLU())\n",
        "        self.fc15 = nn.Sequential(\n",
        "            nn.Dropout(0.5),\n",
        "            nn.Linear(4096, 4096),\n",
        "            nn.ReLU())\n",
        "        self.fc16= nn.Sequential(\n",
        "            nn.Linear(4096, num_classes))\n",
        "\n",
        "    def forward(self, x):\n",
        "        out = self.layer1(x)\n",
        "        out = self.layer2(out)\n",
        "        out = self.layer3(out)\n",
        "        out = self.layer4(out)\n",
        "        out = self.layer5(out)\n",
        "        out = self.layer6(out)\n",
        "        out = self.layer7(out)\n",
        "        out = self.layer8(out)\n",
        "        out = self.layer9(out)\n",
        "        out = self.layer10(out)\n",
        "        out = self.layer11(out)\n",
        "        out = self.layer12(out)\n",
        "        out = self.layer13(out)\n",
        "        out = out.reshape(out.size(0), -1)\n",
        "        out = self.fc14(out)\n",
        "        out = self.fc15(out)\n",
        "        out = self.fc16(out)\n",
        "        return out\n",
        "\n",
        ""
      ]
    },
    {
      "cell_type": "code",
      "source": [
        "dev = ('cuda' if torch.cuda.is_available() else 'cpu')\n",
        "print(dev)"
      ],
      "metadata": {
        "colab": {
          "base_uri": "https://localhost:8080/"
        },
        "id": "sASldj_rCWQC",
        "outputId": "e2be25ca-f501-4e6b-ec53-35003be1a3c3"
      },
      "execution_count": 8,
      "outputs": [
        {
          "output_type": "stream",
          "name": "stdout",
          "text": [
            "cuda\n"
          ]
        }
      ]
    },
    {
      "cell_type": "code",
      "execution_count": 23,
      "metadata": {
        "colab": {
          "base_uri": "https://localhost:8080/"
        },
        "id": "XYjsC3Xo_MQZ",
        "outputId": "484c7257-2068-4c21-eac7-ac3bfcf919aa"
      },
      "outputs": [
        {
          "output_type": "execute_result",
          "data": {
            "text/plain": [
              "88"
            ]
          },
          "metadata": {},
          "execution_count": 23
        }
      ],
      "source": [
        "num_classes = 10\n",
        "num_epochs= 20\n",
        "learning_rate = 0.001\n",
        "model = VGG16(num_classes).to(device=dev)\n",
        "criterion = nn.CrossEntropyLoss()\n",
        "optimizer = torch.optim.Adam(model.parameters(), lr=learning_rate)\n",
        "\n",
        "total_step = len(dataloader['train'])\n",
        "total_step"
      ]
    },
    {
      "cell_type": "code",
      "source": [
        "!pip install torchinfo\n",
        "from torchinfo import summary\n"
      ],
      "metadata": {
        "colab": {
          "base_uri": "https://localhost:8080/"
        },
        "id": "6fjFpWW6DGQa",
        "outputId": "390ef23a-a158-4139-a192-0d8d85261b9d"
      },
      "execution_count": 11,
      "outputs": [
        {
          "output_type": "stream",
          "name": "stdout",
          "text": [
            "Requirement already satisfied: torchinfo in /usr/local/lib/python3.10/dist-packages (1.8.0)\n"
          ]
        }
      ]
    },
    {
      "cell_type": "code",
      "source": [
        "summary(model, input_size=(512, 3, 32, 32))"
      ],
      "metadata": {
        "colab": {
          "base_uri": "https://localhost:8080/"
        },
        "id": "EH_fHOvfGNH8",
        "outputId": "729d435e-984a-4d50-e2ed-4b00b1a9bc74"
      },
      "execution_count": 24,
      "outputs": [
        {
          "output_type": "execute_result",
          "data": {
            "text/plain": [
              "==========================================================================================\n",
              "Layer (type:depth-idx)                   Output Shape              Param #\n",
              "==========================================================================================\n",
              "VGG16                                    [512, 10]                 --\n",
              "├─Sequential: 1-1                        [512, 64, 32, 32]         --\n",
              "│    └─Conv2d: 2-1                       [512, 64, 32, 32]         1,792\n",
              "│    └─BatchNorm2d: 2-2                  [512, 64, 32, 32]         128\n",
              "│    └─ReLU: 2-3                         [512, 64, 32, 32]         --\n",
              "├─Sequential: 1-2                        [512, 64, 16, 16]         --\n",
              "│    └─Conv2d: 2-4                       [512, 64, 32, 32]         36,928\n",
              "│    └─BatchNorm2d: 2-5                  [512, 64, 32, 32]         128\n",
              "│    └─ReLU: 2-6                         [512, 64, 32, 32]         --\n",
              "│    └─MaxPool2d: 2-7                    [512, 64, 16, 16]         --\n",
              "├─Sequential: 1-3                        [512, 128, 16, 16]        --\n",
              "│    └─Conv2d: 2-8                       [512, 128, 16, 16]        73,856\n",
              "│    └─BatchNorm2d: 2-9                  [512, 128, 16, 16]        256\n",
              "│    └─ReLU: 2-10                        [512, 128, 16, 16]        --\n",
              "├─Sequential: 1-4                        [512, 128, 8, 8]          --\n",
              "│    └─Conv2d: 2-11                      [512, 128, 16, 16]        147,584\n",
              "│    └─BatchNorm2d: 2-12                 [512, 128, 16, 16]        256\n",
              "│    └─ReLU: 2-13                        [512, 128, 16, 16]        --\n",
              "│    └─MaxPool2d: 2-14                   [512, 128, 8, 8]          --\n",
              "├─Sequential: 1-5                        [512, 256, 8, 8]          --\n",
              "│    └─Conv2d: 2-15                      [512, 256, 8, 8]          295,168\n",
              "│    └─BatchNorm2d: 2-16                 [512, 256, 8, 8]          512\n",
              "│    └─ReLU: 2-17                        [512, 256, 8, 8]          --\n",
              "├─Sequential: 1-6                        [512, 256, 8, 8]          --\n",
              "│    └─Conv2d: 2-18                      [512, 256, 8, 8]          590,080\n",
              "│    └─BatchNorm2d: 2-19                 [512, 256, 8, 8]          512\n",
              "│    └─ReLU: 2-20                        [512, 256, 8, 8]          --\n",
              "├─Sequential: 1-7                        [512, 256, 4, 4]          --\n",
              "│    └─Conv2d: 2-21                      [512, 256, 8, 8]          590,080\n",
              "│    └─BatchNorm2d: 2-22                 [512, 256, 8, 8]          512\n",
              "│    └─ReLU: 2-23                        [512, 256, 8, 8]          --\n",
              "│    └─MaxPool2d: 2-24                   [512, 256, 4, 4]          --\n",
              "├─Sequential: 1-8                        [512, 512, 4, 4]          --\n",
              "│    └─Conv2d: 2-25                      [512, 512, 4, 4]          1,180,160\n",
              "│    └─BatchNorm2d: 2-26                 [512, 512, 4, 4]          1,024\n",
              "│    └─ReLU: 2-27                        [512, 512, 4, 4]          --\n",
              "├─Sequential: 1-9                        [512, 512, 4, 4]          --\n",
              "│    └─Conv2d: 2-28                      [512, 512, 4, 4]          2,359,808\n",
              "│    └─BatchNorm2d: 2-29                 [512, 512, 4, 4]          1,024\n",
              "│    └─ReLU: 2-30                        [512, 512, 4, 4]          --\n",
              "├─Sequential: 1-10                       [512, 512, 2, 2]          --\n",
              "│    └─Conv2d: 2-31                      [512, 512, 4, 4]          2,359,808\n",
              "│    └─BatchNorm2d: 2-32                 [512, 512, 4, 4]          1,024\n",
              "│    └─ReLU: 2-33                        [512, 512, 4, 4]          --\n",
              "│    └─MaxPool2d: 2-34                   [512, 512, 2, 2]          --\n",
              "├─Sequential: 1-11                       [512, 512, 2, 2]          --\n",
              "│    └─Conv2d: 2-35                      [512, 512, 2, 2]          2,359,808\n",
              "│    └─BatchNorm2d: 2-36                 [512, 512, 2, 2]          1,024\n",
              "│    └─ReLU: 2-37                        [512, 512, 2, 2]          --\n",
              "├─Sequential: 1-12                       [512, 512, 2, 2]          --\n",
              "│    └─Conv2d: 2-38                      [512, 512, 2, 2]          2,359,808\n",
              "│    └─BatchNorm2d: 2-39                 [512, 512, 2, 2]          1,024\n",
              "│    └─ReLU: 2-40                        [512, 512, 2, 2]          --\n",
              "├─Sequential: 1-13                       [512, 512, 1, 1]          --\n",
              "│    └─Conv2d: 2-41                      [512, 512, 2, 2]          2,359,808\n",
              "│    └─BatchNorm2d: 2-42                 [512, 512, 2, 2]          1,024\n",
              "│    └─ReLU: 2-43                        [512, 512, 2, 2]          --\n",
              "│    └─MaxPool2d: 2-44                   [512, 512, 1, 1]          --\n",
              "│    └─AvgPool2d: 2-45                   [512, 512, 1, 1]          --\n",
              "├─Sequential: 1-14                       [512, 4096]               --\n",
              "│    └─Linear: 2-46                      [512, 4096]               2,101,248\n",
              "│    └─Dropout: 2-47                     [512, 4096]               --\n",
              "│    └─ReLU: 2-48                        [512, 4096]               --\n",
              "├─Sequential: 1-15                       [512, 4096]               --\n",
              "│    └─Dropout: 2-49                     [512, 4096]               --\n",
              "│    └─Linear: 2-50                      [512, 4096]               16,781,312\n",
              "│    └─ReLU: 2-51                        [512, 4096]               --\n",
              "├─Sequential: 1-16                       [512, 10]                 --\n",
              "│    └─Linear: 2-52                      [512, 10]                 40,970\n",
              "==========================================================================================\n",
              "Total params: 33,646,666\n",
              "Trainable params: 33,646,666\n",
              "Non-trainable params: 0\n",
              "Total mult-adds (G): 170.19\n",
              "==========================================================================================\n",
              "Input size (MB): 6.29\n",
              "Forward/backward pass size (MB): 2298.52\n",
              "Params size (MB): 134.59\n",
              "Estimated Total Size (MB): 2439.40\n",
              "=========================================================================================="
            ]
          },
          "metadata": {},
          "execution_count": 24
        }
      ]
    },
    {
      "cell_type": "code",
      "execution_count": 25,
      "metadata": {
        "colab": {
          "base_uri": "https://localhost:8080/"
        },
        "id": "4R0h5W6E_MQZ",
        "outputId": "22cece9e-085e-4f84-9d38-8e0d21c1d713"
      },
      "outputs": [
        {
          "output_type": "stream",
          "name": "stdout",
          "text": [
            "Epoch [1/20], Step [88/88], Loss: 1.9472\n",
            "Accuracy of the network on the 5000 validation images: 17.96 %\n",
            "Epoch [2/20], Step [88/88], Loss: 1.8275\n",
            "Accuracy of the network on the 5000 validation images: 23.96 %\n",
            "Epoch [3/20], Step [88/88], Loss: 1.6643\n",
            "Accuracy of the network on the 5000 validation images: 31.68 %\n",
            "Epoch [4/20], Step [88/88], Loss: 1.4799\n",
            "Accuracy of the network on the 5000 validation images: 41.58 %\n",
            "Epoch [5/20], Step [88/88], Loss: 1.3134\n",
            "Accuracy of the network on the 5000 validation images: 47.02 %\n",
            "Epoch [6/20], Step [88/88], Loss: 1.1293\n",
            "Accuracy of the network on the 5000 validation images: 57.5 %\n",
            "Epoch [7/20], Step [88/88], Loss: 1.0139\n",
            "Accuracy of the network on the 5000 validation images: 61.6 %\n",
            "Epoch [8/20], Step [88/88], Loss: 0.9582\n",
            "Accuracy of the network on the 5000 validation images: 65.52 %\n",
            "Epoch [9/20], Step [88/88], Loss: 0.8555\n",
            "Accuracy of the network on the 5000 validation images: 70.28 %\n",
            "Epoch [10/20], Step [88/88], Loss: 0.8479\n",
            "Accuracy of the network on the 5000 validation images: 73.1 %\n",
            "Epoch [11/20], Step [88/88], Loss: 0.7635\n",
            "Accuracy of the network on the 5000 validation images: 74.02 %\n",
            "Epoch [12/20], Step [88/88], Loss: 0.6623\n",
            "Accuracy of the network on the 5000 validation images: 76.92 %\n",
            "Epoch [13/20], Step [88/88], Loss: 0.6124\n",
            "Accuracy of the network on the 5000 validation images: 77.88 %\n",
            "Epoch [14/20], Step [88/88], Loss: 0.5668\n",
            "Accuracy of the network on the 5000 validation images: 78.82 %\n",
            "Epoch [15/20], Step [88/88], Loss: 0.5498\n",
            "Accuracy of the network on the 5000 validation images: 80.34 %\n",
            "Epoch [16/20], Step [88/88], Loss: 0.4749\n",
            "Accuracy of the network on the 5000 validation images: 81.5 %\n",
            "Epoch [17/20], Step [88/88], Loss: 0.5397\n",
            "Accuracy of the network on the 5000 validation images: 83.16 %\n",
            "Epoch [18/20], Step [88/88], Loss: 0.4679\n",
            "Accuracy of the network on the 5000 validation images: 82.44 %\n",
            "Epoch [19/20], Step [88/88], Loss: 0.3827\n",
            "Accuracy of the network on the 5000 validation images: 83.82 %\n",
            "Epoch [20/20], Step [88/88], Loss: 0.4115\n",
            "Accuracy of the network on the 5000 validation images: 83.86 %\n"
          ]
        }
      ],
      "source": [
        "for epoch in range(num_epochs):\n",
        "    for i,(images, labels) in enumerate(dataloader['train']):\n",
        "        images = images.to(device=dev)\n",
        "        labels = labels.to(device=dev)\n",
        "        outputs = model.forward(images)\n",
        "        loss = criterion(outputs, labels) #this is the one that calculates the loss between your result and the testing data\n",
        "        optimizer.zero_grad() #this is the one that zeros the gradient\n",
        "        loss.backward() #this is the one that calculates the gradient\n",
        "        optimizer.step() #this is the one that updates the weights\n",
        "\n",
        "    print ('Epoch [{}/{}], Step [{}/{}], Loss: {:.4f}'\n",
        "                .format(epoch+1, num_epochs, i+1, total_step, loss.item()))\n",
        "    with torch.no_grad():\n",
        "        correct = 0\n",
        "        total = 0\n",
        "        for images, labels in dataloader['validation']:\n",
        "            images = images.to(device = dev)\n",
        "            labels = labels.to(device = dev)\n",
        "            outputs = model(images)\n",
        "            _, predicted = torch.max(outputs.data, 1)\n",
        "            total += labels.size(0)\n",
        "            correct += (predicted == labels).sum().item()\n",
        "            del images, labels, outputs\n",
        "\n",
        "        print('Accuracy of the network on the {} validation images: {} %'.format(5000, 100 * correct / total))\n",
        "\n",
        ""
      ]
    },
    {
      "cell_type": "code",
      "execution_count": 26,
      "metadata": {
        "colab": {
          "base_uri": "https://localhost:8080/"
        },
        "id": "v4l9arhP_MQZ",
        "outputId": "5c41be1e-10a1-4236-c7b5-093f96ad396e"
      },
      "outputs": [
        {
          "output_type": "stream",
          "name": "stdout",
          "text": [
            "Accuracy of the network on the 10000 test images: 82.9 %\n"
          ]
        }
      ],
      "source": [
        "with torch.no_grad():\n",
        "    correct = 0\n",
        "    total = 0\n",
        "    for images, labels in dataloader['test']:\n",
        "        images = images.to(device =dev)\n",
        "        labels = labels.to(device = dev)\n",
        "        outputs = model(images)\n",
        "        _, predicted = torch.max(outputs.data, 1)\n",
        "        total += labels.size(0)\n",
        "        correct += (predicted == labels).sum().item()\n",
        "        del images, labels, outputs\n",
        "\n",
        "    print('Accuracy of the network on the {} test images: {} %'.format(10000, 100 * correct / total))"
      ]
    },
    {
      "cell_type": "code",
      "execution_count": 27,
      "metadata": {
        "id": "5hY1yXB8_MQZ"
      },
      "outputs": [],
      "source": [
        "torch.save(model, \"modelFinal.pth\")"
      ]
    },
    {
      "cell_type": "code",
      "execution_count": 29,
      "metadata": {
        "id": "InBTzgXQ_MQZ"
      },
      "outputs": [],
      "source": [
        "torch.save(model.state_dict(), \"modelsaidlFinal.pth\")"
      ]
    },
    {
      "cell_type": "code",
      "execution_count": 37,
      "metadata": {
        "colab": {
          "base_uri": "https://localhost:8080/"
        },
        "id": "dfY1g8uL_MQa",
        "outputId": "f8947d14-78a3-4684-be6f-0076eded01c1"
      },
      "outputs": [
        {
          "output_type": "stream",
          "name": "stdout",
          "text": [
            "Model size: 128.35184478759766MB\n"
          ]
        }
      ],
      "source": [
        "def get_num_parameters(model: nn.Module, count_nonzero_only=False) -> int:\n",
        "    \"\"\"\n",
        "    calculate the total number of parameters of model\n",
        "    :param count_nonzero_only: only count nonzero weights\n",
        "    \"\"\"\n",
        "    num_counted_elements = 0\n",
        "    for param in model.parameters():\n",
        "        if count_nonzero_only:\n",
        "            num_counted_elements += param.count_nonzero()\n",
        "        else:\n",
        "            num_counted_elements += param.numel()\n",
        "    return num_counted_elements\n",
        "\n",
        "\n",
        "def get_model_size(model: nn.Module, data_width=32, count_nonzero_only=False) -> int:\n",
        "    \"\"\"\n",
        "    calculate the model size in bits\n",
        "    :param data_width: #bits per element\n",
        "    :param count_nonzero_only: only count nonzero weights\n",
        "    \"\"\"\n",
        "    return get_num_parameters(model, count_nonzero_only) * data_width\n",
        "\n",
        "Byte = 8\n",
        "KiB = 1024 * Byte\n",
        "MiB = 1024 * KiB\n",
        "GiB = 1024 * MiB\n",
        "mb = get_model_size(model)/MiB\n",
        "print(f\"Model size: {mb}MB\")"
      ]
    },
    {
      "cell_type": "code",
      "execution_count": 38,
      "metadata": {
        "colab": {
          "base_uri": "https://localhost:8080/"
        },
        "id": "PlkfGMIH_MQa",
        "outputId": "dac4d149-89f0-43e4-c9fc-58a376f927c2"
      },
      "outputs": [
        {
          "output_type": "stream",
          "name": "stdout",
          "text": [
            "----------------------------------------------------------------\n",
            "        Layer (type)               Output Shape         Param #\n",
            "================================================================\n",
            "            Conv2d-1           [-1, 64, 32, 32]           1,792\n",
            "       BatchNorm2d-2           [-1, 64, 32, 32]             128\n",
            "              ReLU-3           [-1, 64, 32, 32]               0\n",
            "            Conv2d-4           [-1, 64, 32, 32]          36,928\n",
            "       BatchNorm2d-5           [-1, 64, 32, 32]             128\n",
            "              ReLU-6           [-1, 64, 32, 32]               0\n",
            "         MaxPool2d-7           [-1, 64, 16, 16]               0\n",
            "            Conv2d-8          [-1, 128, 16, 16]          73,856\n",
            "       BatchNorm2d-9          [-1, 128, 16, 16]             256\n",
            "             ReLU-10          [-1, 128, 16, 16]               0\n",
            "           Conv2d-11          [-1, 128, 16, 16]         147,584\n",
            "      BatchNorm2d-12          [-1, 128, 16, 16]             256\n",
            "             ReLU-13          [-1, 128, 16, 16]               0\n",
            "        MaxPool2d-14            [-1, 128, 8, 8]               0\n",
            "           Conv2d-15            [-1, 256, 8, 8]         295,168\n",
            "      BatchNorm2d-16            [-1, 256, 8, 8]             512\n",
            "             ReLU-17            [-1, 256, 8, 8]               0\n",
            "           Conv2d-18            [-1, 256, 8, 8]         590,080\n",
            "      BatchNorm2d-19            [-1, 256, 8, 8]             512\n",
            "             ReLU-20            [-1, 256, 8, 8]               0\n",
            "           Conv2d-21            [-1, 256, 8, 8]         590,080\n",
            "      BatchNorm2d-22            [-1, 256, 8, 8]             512\n",
            "             ReLU-23            [-1, 256, 8, 8]               0\n",
            "        MaxPool2d-24            [-1, 256, 4, 4]               0\n",
            "           Conv2d-25            [-1, 512, 4, 4]       1,180,160\n",
            "      BatchNorm2d-26            [-1, 512, 4, 4]           1,024\n",
            "             ReLU-27            [-1, 512, 4, 4]               0\n",
            "           Conv2d-28            [-1, 512, 4, 4]       2,359,808\n",
            "      BatchNorm2d-29            [-1, 512, 4, 4]           1,024\n",
            "             ReLU-30            [-1, 512, 4, 4]               0\n",
            "           Conv2d-31            [-1, 512, 4, 4]       2,359,808\n",
            "      BatchNorm2d-32            [-1, 512, 4, 4]           1,024\n",
            "             ReLU-33            [-1, 512, 4, 4]               0\n",
            "        MaxPool2d-34            [-1, 512, 2, 2]               0\n",
            "           Conv2d-35            [-1, 512, 2, 2]       2,359,808\n",
            "      BatchNorm2d-36            [-1, 512, 2, 2]           1,024\n",
            "             ReLU-37            [-1, 512, 2, 2]               0\n",
            "           Conv2d-38            [-1, 512, 2, 2]       2,359,808\n",
            "      BatchNorm2d-39            [-1, 512, 2, 2]           1,024\n",
            "             ReLU-40            [-1, 512, 2, 2]               0\n",
            "           Conv2d-41            [-1, 512, 2, 2]       2,359,808\n",
            "      BatchNorm2d-42            [-1, 512, 2, 2]           1,024\n",
            "             ReLU-43            [-1, 512, 2, 2]               0\n",
            "        MaxPool2d-44            [-1, 512, 1, 1]               0\n",
            "        AvgPool2d-45            [-1, 512, 1, 1]               0\n",
            "           Linear-46                 [-1, 4096]       2,101,248\n",
            "          Dropout-47                 [-1, 4096]               0\n",
            "             ReLU-48                 [-1, 4096]               0\n",
            "          Dropout-49                 [-1, 4096]               0\n",
            "           Linear-50                 [-1, 4096]      16,781,312\n",
            "             ReLU-51                 [-1, 4096]               0\n",
            "           Linear-52                   [-1, 10]          40,970\n",
            "================================================================\n",
            "Total params: 33,646,666\n",
            "Trainable params: 33,646,666\n",
            "Non-trainable params: 0\n",
            "----------------------------------------------------------------\n",
            "Input size (MB): 0.01\n",
            "Forward/backward pass size (MB): 6.76\n",
            "Params size (MB): 128.35\n",
            "Estimated Total Size (MB): 135.12\n",
            "----------------------------------------------------------------\n"
          ]
        }
      ],
      "source": [
        "from torchsummary import summary\n",
        "summary(model, (3,32,32))"
      ]
    }
  ],
  "metadata": {
    "kernelspec": {
      "display_name": "Python 3",
      "name": "python3"
    },
    "language_info": {
      "codemirror_mode": {
        "name": "ipython",
        "version": 3
      },
      "file_extension": ".py",
      "mimetype": "text/x-python",
      "name": "python",
      "nbconvert_exporter": "python",
      "pygments_lexer": "ipython3",
      "version": "3.9.19"
    },
    "colab": {
      "provenance": [],
      "gpuType": "T4",
      "include_colab_link": true
    },
    "accelerator": "GPU"
  },
  "nbformat": 4,
  "nbformat_minor": 0
}